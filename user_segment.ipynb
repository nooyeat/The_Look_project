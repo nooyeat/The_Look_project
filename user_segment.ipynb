{
 "cells": [
  {
   "cell_type": "code",
   "execution_count": 1,
   "id": "214f1398",
   "metadata": {},
   "outputs": [],
   "source": [
    "import pandas as pd\n",
    "import plotly.graph_objects as go\n",
    "import plotly_express as px\n",
    "\n",
    "event = pd.read_csv('event.csv')\n",
    "distribution_center = pd.read_csv('distribution_center.csv')\n",
    "inventory_items = pd.read_csv('inventory_items.csv')\n",
    "order_items = pd.read_csv('order_items.csv')\n",
    "orders = pd.read_csv('orders.csv')\n",
    "users = pd.read_csv('users.csv', low_memory=False)\n",
    "products = pd.read_csv('products.csv')"
   ]
  },
  {
   "cell_type": "code",
   "execution_count": 2,
   "id": "836b07b7",
   "metadata": {},
   "outputs": [],
   "source": [
    "order_items.created_at = pd.to_datetime(order_items.created_at)\n",
    "\n",
    "order_items = order_items.sort_values(['user_id', 'created_at'], ascending=[True, True])\n",
    "\n",
    "order_items.loc[:, 'previous_purchase'] = order_items.groupby('user_id')['created_at'].shift(1)  # 이전 구매 날짜\n",
    "order_items.loc[:, 'purchase_interval'] = (order_items['created_at'] - order_items['previous_purchase']).dt.days  # 구매 간격(일 단위)"
   ]
  },
  {
   "cell_type": "code",
   "execution_count": 3,
   "id": "61c28814",
   "metadata": {},
   "outputs": [],
   "source": [
    "snapshot_date = order_items['created_at'].max() + pd.Timedelta(days=1)\n",
    "\n",
    "rfm = order_items.groupby('user_id').agg({\n",
    "    'created_at': lambda x: (snapshot_date - x.max()).days,\n",
    "    'user_id' : 'count',\n",
    "    'sale_price' : 'sum'\n",
    "}).rename(columns={\n",
    "    'created_at' : 'Recency',\n",
    "    'user_id' : 'Frequency',\n",
    "    'sale_price' : 'Monetary'\n",
    "}).reset_index()"
   ]
  },
  {
   "cell_type": "code",
   "execution_count": 4,
   "id": "08f56afc",
   "metadata": {},
   "outputs": [],
   "source": [
    "rfm['R_score'] = pd.qcut(rfm['Recency'], 3, labels=[3, 2, 1])\n",
    "rfm['F_score'] = pd.qcut(rfm['Frequency'].rank(method='first'), 3, labels=[1, 2, 3])\n",
    "rfm['M_score'] = pd.qcut(rfm['Monetary'], 3, labels=[1, 2, 3])\n",
    "\n",
    "rfm['RFM_score'] = rfm['R_score'].astype(str) + rfm['F_score'].astype(str) + rfm['M_score'].astype(str)"
   ]
  },
  {
   "cell_type": "code",
   "execution_count": 5,
   "id": "1c1f5544",
   "metadata": {},
   "outputs": [],
   "source": [
    "def segment(x):\n",
    "    if x['R_score'] == 3 and x['F_score'] == 3 and x['M_score'] == 3:\n",
    "        return '우수 고객'\n",
    "    elif x['R_score'] == 1 and x['F_score'] == 1 and x['M_score'] == 1:\n",
    "        return '이탈 위험 고객'\n",
    "    else:\n",
    "        return '일반 고객'\n",
    "    \n",
    "rfm['Segment'] = rfm.apply(segment, axis=1)"
   ]
  },
  {
   "cell_type": "code",
   "execution_count": 6,
   "id": "2a7026ab",
   "metadata": {},
   "outputs": [
    {
     "data": {
      "text/html": [
       "<div>\n",
       "<style scoped>\n",
       "    .dataframe tbody tr th:only-of-type {\n",
       "        vertical-align: middle;\n",
       "    }\n",
       "\n",
       "    .dataframe tbody tr th {\n",
       "        vertical-align: top;\n",
       "    }\n",
       "\n",
       "    .dataframe thead th {\n",
       "        text-align: right;\n",
       "    }\n",
       "</style>\n",
       "<table border=\"1\" class=\"dataframe\">\n",
       "  <thead>\n",
       "    <tr style=\"text-align: right;\">\n",
       "      <th></th>\n",
       "      <th>order_id</th>\n",
       "      <th>user_id</th>\n",
       "      <th>status</th>\n",
       "      <th>gender</th>\n",
       "      <th>created_at</th>\n",
       "      <th>returned_at</th>\n",
       "      <th>shipped_at</th>\n",
       "      <th>delivered_at</th>\n",
       "      <th>num_of_item</th>\n",
       "      <th>previous_purchase</th>\n",
       "      <th>purchase_interval</th>\n",
       "      <th>Segment</th>\n",
       "    </tr>\n",
       "  </thead>\n",
       "  <tbody>\n",
       "    <tr>\n",
       "      <th>0</th>\n",
       "      <td>2</td>\n",
       "      <td>1</td>\n",
       "      <td>Cancelled</td>\n",
       "      <td>F</td>\n",
       "      <td>2023-07-26 13:22:36</td>\n",
       "      <td>NaN</td>\n",
       "      <td>NaN</td>\n",
       "      <td>NaN</td>\n",
       "      <td>1</td>\n",
       "      <td>NaT</td>\n",
       "      <td>NaN</td>\n",
       "      <td>우수 고객</td>\n",
       "    </tr>\n",
       "    <tr>\n",
       "      <th>1</th>\n",
       "      <td>3</td>\n",
       "      <td>1</td>\n",
       "      <td>Shipped</td>\n",
       "      <td>F</td>\n",
       "      <td>2023-11-04 02:25:04</td>\n",
       "      <td>NaN</td>\n",
       "      <td>2025-04-05 09:48:00 UTC</td>\n",
       "      <td>NaN</td>\n",
       "      <td>1</td>\n",
       "      <td>2023-07-26 13:22:36</td>\n",
       "      <td>100.0</td>\n",
       "      <td>우수 고객</td>\n",
       "    </tr>\n",
       "    <tr>\n",
       "      <th>2</th>\n",
       "      <td>1</td>\n",
       "      <td>1</td>\n",
       "      <td>Cancelled</td>\n",
       "      <td>F</td>\n",
       "      <td>2024-11-16 23:36:48</td>\n",
       "      <td>NaN</td>\n",
       "      <td>NaN</td>\n",
       "      <td>NaN</td>\n",
       "      <td>1</td>\n",
       "      <td>2023-11-04 02:25:04</td>\n",
       "      <td>378.0</td>\n",
       "      <td>우수 고객</td>\n",
       "    </tr>\n",
       "    <tr>\n",
       "      <th>3</th>\n",
       "      <td>4</td>\n",
       "      <td>2</td>\n",
       "      <td>Shipped</td>\n",
       "      <td>M</td>\n",
       "      <td>2022-10-28 12:19:58</td>\n",
       "      <td>NaN</td>\n",
       "      <td>2023-12-07 22:01:00 UTC</td>\n",
       "      <td>NaN</td>\n",
       "      <td>1</td>\n",
       "      <td>NaT</td>\n",
       "      <td>NaN</td>\n",
       "      <td>일반 고객</td>\n",
       "    </tr>\n",
       "    <tr>\n",
       "      <th>4</th>\n",
       "      <td>8</td>\n",
       "      <td>3</td>\n",
       "      <td>Processing</td>\n",
       "      <td>M</td>\n",
       "      <td>2022-06-21 02:11:38</td>\n",
       "      <td>NaN</td>\n",
       "      <td>NaN</td>\n",
       "      <td>NaN</td>\n",
       "      <td>1</td>\n",
       "      <td>NaT</td>\n",
       "      <td>NaN</td>\n",
       "      <td>일반 고객</td>\n",
       "    </tr>\n",
       "  </tbody>\n",
       "</table>\n",
       "</div>"
      ],
      "text/plain": [
       "   order_id  user_id      status gender          created_at returned_at  \\\n",
       "0         2        1   Cancelled      F 2023-07-26 13:22:36         NaN   \n",
       "1         3        1     Shipped      F 2023-11-04 02:25:04         NaN   \n",
       "2         1        1   Cancelled      F 2024-11-16 23:36:48         NaN   \n",
       "3         4        2     Shipped      M 2022-10-28 12:19:58         NaN   \n",
       "4         8        3  Processing      M 2022-06-21 02:11:38         NaN   \n",
       "\n",
       "                shipped_at delivered_at  num_of_item   previous_purchase  \\\n",
       "0                      NaN          NaN            1                 NaT   \n",
       "1  2025-04-05 09:48:00 UTC          NaN            1 2023-07-26 13:22:36   \n",
       "2                      NaN          NaN            1 2023-11-04 02:25:04   \n",
       "3  2023-12-07 22:01:00 UTC          NaN            1                 NaT   \n",
       "4                      NaN          NaN            1                 NaT   \n",
       "\n",
       "   purchase_interval Segment  \n",
       "0                NaN   우수 고객  \n",
       "1              100.0   우수 고객  \n",
       "2              378.0   우수 고객  \n",
       "3                NaN   일반 고객  \n",
       "4                NaN   일반 고객  "
      ]
     },
     "execution_count": 6,
     "metadata": {},
     "output_type": "execute_result"
    }
   ],
   "source": [
    "# nan 값은 첫 구매\n",
    "orders.created_at = pd.to_datetime(order_items.created_at)\n",
    "\n",
    "orders = orders.sort_values(['user_id', 'created_at'], ascending=[True, True])\n",
    "\n",
    "orders.loc[:, 'previous_purchase'] = orders.groupby('user_id')['created_at'].shift(1)  # 이전 구매 날짜\n",
    "orders.loc[:, 'purchase_interval'] = (orders['created_at'] - orders['previous_purchase']).dt.days  # 구매 간격(일 단위)\n",
    "\n",
    "order_segment = pd.merge(orders, rfm[['user_id', 'Segment']], how='left', on='user_id')\n",
    "order_segment.head()"
   ]
  },
  {
   "cell_type": "code",
   "execution_count": 7,
   "id": "4b2b00bd",
   "metadata": {},
   "outputs": [
    {
     "data": {
      "application/vnd.plotly.v1+json": {
       "config": {
        "plotlyServerURL": "https://plot.ly"
       },
       "data": [
        {
         "alignmentgroup": "True",
         "hovertemplate": "Segment=%{x}<br>cnt=%{y}<extra></extra>",
         "legendgroup": "일반 고객",
         "marker": {
          "color": "#636efa",
          "pattern": {
           "shape": ""
          }
         },
         "name": "일반 고객",
         "offsetgroup": "일반 고객",
         "orientation": "v",
         "showlegend": true,
         "textposition": "auto",
         "texttemplate": "%{y}",
         "type": "bar",
         "x": [
          "일반 고객"
         ],
         "xaxis": "x",
         "y": [
          64827
         ],
         "yaxis": "y"
        },
        {
         "alignmentgroup": "True",
         "hovertemplate": "Segment=%{x}<br>cnt=%{y}<extra></extra>",
         "legendgroup": "우수 고객",
         "marker": {
          "color": "#EF553B",
          "pattern": {
           "shape": ""
          }
         },
         "name": "우수 고객",
         "offsetgroup": "우수 고객",
         "orientation": "v",
         "showlegend": true,
         "textposition": "auto",
         "texttemplate": "%{y}",
         "type": "bar",
         "x": [
          "우수 고객"
         ],
         "xaxis": "x",
         "y": [
          8211
         ],
         "yaxis": "y"
        },
        {
         "alignmentgroup": "True",
         "hovertemplate": "Segment=%{x}<br>cnt=%{y}<extra></extra>",
         "legendgroup": "이탈 위험 고객",
         "marker": {
          "color": "#00cc96",
          "pattern": {
           "shape": ""
          }
         },
         "name": "이탈 위험 고객",
         "offsetgroup": "이탈 위험 고객",
         "orientation": "v",
         "showlegend": true,
         "textposition": "auto",
         "texttemplate": "%{y}",
         "type": "bar",
         "x": [
          "이탈 위험 고객"
         ],
         "xaxis": "x",
         "y": [
          7043
         ],
         "yaxis": "y"
        }
       ],
       "layout": {
        "barmode": "relative",
        "legend": {
         "title": {
          "text": "Segment"
         },
         "tracegroupgap": 0
        },
        "margin": {
         "t": 60
        },
        "template": {
         "data": {
          "bar": [
           {
            "error_x": {
             "color": "rgb(36,36,36)"
            },
            "error_y": {
             "color": "rgb(36,36,36)"
            },
            "marker": {
             "line": {
              "color": "white",
              "width": 0.5
             },
             "pattern": {
              "fillmode": "overlay",
              "size": 10,
              "solidity": 0.2
             }
            },
            "type": "bar"
           }
          ],
          "barpolar": [
           {
            "marker": {
             "line": {
              "color": "white",
              "width": 0.5
             },
             "pattern": {
              "fillmode": "overlay",
              "size": 10,
              "solidity": 0.2
             }
            },
            "type": "barpolar"
           }
          ],
          "carpet": [
           {
            "aaxis": {
             "endlinecolor": "rgb(36,36,36)",
             "gridcolor": "white",
             "linecolor": "white",
             "minorgridcolor": "white",
             "startlinecolor": "rgb(36,36,36)"
            },
            "baxis": {
             "endlinecolor": "rgb(36,36,36)",
             "gridcolor": "white",
             "linecolor": "white",
             "minorgridcolor": "white",
             "startlinecolor": "rgb(36,36,36)"
            },
            "type": "carpet"
           }
          ],
          "choropleth": [
           {
            "colorbar": {
             "outlinewidth": 1,
             "tickcolor": "rgb(36,36,36)",
             "ticks": "outside"
            },
            "type": "choropleth"
           }
          ],
          "contour": [
           {
            "colorbar": {
             "outlinewidth": 1,
             "tickcolor": "rgb(36,36,36)",
             "ticks": "outside"
            },
            "colorscale": [
             [
              0,
              "#440154"
             ],
             [
              0.1111111111111111,
              "#482878"
             ],
             [
              0.2222222222222222,
              "#3e4989"
             ],
             [
              0.3333333333333333,
              "#31688e"
             ],
             [
              0.4444444444444444,
              "#26828e"
             ],
             [
              0.5555555555555556,
              "#1f9e89"
             ],
             [
              0.6666666666666666,
              "#35b779"
             ],
             [
              0.7777777777777778,
              "#6ece58"
             ],
             [
              0.8888888888888888,
              "#b5de2b"
             ],
             [
              1,
              "#fde725"
             ]
            ],
            "type": "contour"
           }
          ],
          "contourcarpet": [
           {
            "colorbar": {
             "outlinewidth": 1,
             "tickcolor": "rgb(36,36,36)",
             "ticks": "outside"
            },
            "type": "contourcarpet"
           }
          ],
          "heatmap": [
           {
            "colorbar": {
             "outlinewidth": 1,
             "tickcolor": "rgb(36,36,36)",
             "ticks": "outside"
            },
            "colorscale": [
             [
              0,
              "#440154"
             ],
             [
              0.1111111111111111,
              "#482878"
             ],
             [
              0.2222222222222222,
              "#3e4989"
             ],
             [
              0.3333333333333333,
              "#31688e"
             ],
             [
              0.4444444444444444,
              "#26828e"
             ],
             [
              0.5555555555555556,
              "#1f9e89"
             ],
             [
              0.6666666666666666,
              "#35b779"
             ],
             [
              0.7777777777777778,
              "#6ece58"
             ],
             [
              0.8888888888888888,
              "#b5de2b"
             ],
             [
              1,
              "#fde725"
             ]
            ],
            "type": "heatmap"
           }
          ],
          "heatmapgl": [
           {
            "colorbar": {
             "outlinewidth": 1,
             "tickcolor": "rgb(36,36,36)",
             "ticks": "outside"
            },
            "colorscale": [
             [
              0,
              "#440154"
             ],
             [
              0.1111111111111111,
              "#482878"
             ],
             [
              0.2222222222222222,
              "#3e4989"
             ],
             [
              0.3333333333333333,
              "#31688e"
             ],
             [
              0.4444444444444444,
              "#26828e"
             ],
             [
              0.5555555555555556,
              "#1f9e89"
             ],
             [
              0.6666666666666666,
              "#35b779"
             ],
             [
              0.7777777777777778,
              "#6ece58"
             ],
             [
              0.8888888888888888,
              "#b5de2b"
             ],
             [
              1,
              "#fde725"
             ]
            ],
            "type": "heatmapgl"
           }
          ],
          "histogram": [
           {
            "marker": {
             "line": {
              "color": "white",
              "width": 0.6
             }
            },
            "type": "histogram"
           }
          ],
          "histogram2d": [
           {
            "colorbar": {
             "outlinewidth": 1,
             "tickcolor": "rgb(36,36,36)",
             "ticks": "outside"
            },
            "colorscale": [
             [
              0,
              "#440154"
             ],
             [
              0.1111111111111111,
              "#482878"
             ],
             [
              0.2222222222222222,
              "#3e4989"
             ],
             [
              0.3333333333333333,
              "#31688e"
             ],
             [
              0.4444444444444444,
              "#26828e"
             ],
             [
              0.5555555555555556,
              "#1f9e89"
             ],
             [
              0.6666666666666666,
              "#35b779"
             ],
             [
              0.7777777777777778,
              "#6ece58"
             ],
             [
              0.8888888888888888,
              "#b5de2b"
             ],
             [
              1,
              "#fde725"
             ]
            ],
            "type": "histogram2d"
           }
          ],
          "histogram2dcontour": [
           {
            "colorbar": {
             "outlinewidth": 1,
             "tickcolor": "rgb(36,36,36)",
             "ticks": "outside"
            },
            "colorscale": [
             [
              0,
              "#440154"
             ],
             [
              0.1111111111111111,
              "#482878"
             ],
             [
              0.2222222222222222,
              "#3e4989"
             ],
             [
              0.3333333333333333,
              "#31688e"
             ],
             [
              0.4444444444444444,
              "#26828e"
             ],
             [
              0.5555555555555556,
              "#1f9e89"
             ],
             [
              0.6666666666666666,
              "#35b779"
             ],
             [
              0.7777777777777778,
              "#6ece58"
             ],
             [
              0.8888888888888888,
              "#b5de2b"
             ],
             [
              1,
              "#fde725"
             ]
            ],
            "type": "histogram2dcontour"
           }
          ],
          "mesh3d": [
           {
            "colorbar": {
             "outlinewidth": 1,
             "tickcolor": "rgb(36,36,36)",
             "ticks": "outside"
            },
            "type": "mesh3d"
           }
          ],
          "parcoords": [
           {
            "line": {
             "colorbar": {
              "outlinewidth": 1,
              "tickcolor": "rgb(36,36,36)",
              "ticks": "outside"
             }
            },
            "type": "parcoords"
           }
          ],
          "pie": [
           {
            "automargin": true,
            "type": "pie"
           }
          ],
          "scatter": [
           {
            "fillpattern": {
             "fillmode": "overlay",
             "size": 10,
             "solidity": 0.2
            },
            "type": "scatter"
           }
          ],
          "scatter3d": [
           {
            "line": {
             "colorbar": {
              "outlinewidth": 1,
              "tickcolor": "rgb(36,36,36)",
              "ticks": "outside"
             }
            },
            "marker": {
             "colorbar": {
              "outlinewidth": 1,
              "tickcolor": "rgb(36,36,36)",
              "ticks": "outside"
             }
            },
            "type": "scatter3d"
           }
          ],
          "scattercarpet": [
           {
            "marker": {
             "colorbar": {
              "outlinewidth": 1,
              "tickcolor": "rgb(36,36,36)",
              "ticks": "outside"
             }
            },
            "type": "scattercarpet"
           }
          ],
          "scattergeo": [
           {
            "marker": {
             "colorbar": {
              "outlinewidth": 1,
              "tickcolor": "rgb(36,36,36)",
              "ticks": "outside"
             }
            },
            "type": "scattergeo"
           }
          ],
          "scattergl": [
           {
            "marker": {
             "colorbar": {
              "outlinewidth": 1,
              "tickcolor": "rgb(36,36,36)",
              "ticks": "outside"
             }
            },
            "type": "scattergl"
           }
          ],
          "scattermapbox": [
           {
            "marker": {
             "colorbar": {
              "outlinewidth": 1,
              "tickcolor": "rgb(36,36,36)",
              "ticks": "outside"
             }
            },
            "type": "scattermapbox"
           }
          ],
          "scatterpolar": [
           {
            "marker": {
             "colorbar": {
              "outlinewidth": 1,
              "tickcolor": "rgb(36,36,36)",
              "ticks": "outside"
             }
            },
            "type": "scatterpolar"
           }
          ],
          "scatterpolargl": [
           {
            "marker": {
             "colorbar": {
              "outlinewidth": 1,
              "tickcolor": "rgb(36,36,36)",
              "ticks": "outside"
             }
            },
            "type": "scatterpolargl"
           }
          ],
          "scatterternary": [
           {
            "marker": {
             "colorbar": {
              "outlinewidth": 1,
              "tickcolor": "rgb(36,36,36)",
              "ticks": "outside"
             }
            },
            "type": "scatterternary"
           }
          ],
          "surface": [
           {
            "colorbar": {
             "outlinewidth": 1,
             "tickcolor": "rgb(36,36,36)",
             "ticks": "outside"
            },
            "colorscale": [
             [
              0,
              "#440154"
             ],
             [
              0.1111111111111111,
              "#482878"
             ],
             [
              0.2222222222222222,
              "#3e4989"
             ],
             [
              0.3333333333333333,
              "#31688e"
             ],
             [
              0.4444444444444444,
              "#26828e"
             ],
             [
              0.5555555555555556,
              "#1f9e89"
             ],
             [
              0.6666666666666666,
              "#35b779"
             ],
             [
              0.7777777777777778,
              "#6ece58"
             ],
             [
              0.8888888888888888,
              "#b5de2b"
             ],
             [
              1,
              "#fde725"
             ]
            ],
            "type": "surface"
           }
          ],
          "table": [
           {
            "cells": {
             "fill": {
              "color": "rgb(237,237,237)"
             },
             "line": {
              "color": "white"
             }
            },
            "header": {
             "fill": {
              "color": "rgb(217,217,217)"
             },
             "line": {
              "color": "white"
             }
            },
            "type": "table"
           }
          ]
         },
         "layout": {
          "annotationdefaults": {
           "arrowhead": 0,
           "arrowwidth": 1
          },
          "autotypenumbers": "strict",
          "coloraxis": {
           "colorbar": {
            "outlinewidth": 1,
            "tickcolor": "rgb(36,36,36)",
            "ticks": "outside"
           }
          },
          "colorscale": {
           "diverging": [
            [
             0,
             "rgb(103,0,31)"
            ],
            [
             0.1,
             "rgb(178,24,43)"
            ],
            [
             0.2,
             "rgb(214,96,77)"
            ],
            [
             0.3,
             "rgb(244,165,130)"
            ],
            [
             0.4,
             "rgb(253,219,199)"
            ],
            [
             0.5,
             "rgb(247,247,247)"
            ],
            [
             0.6,
             "rgb(209,229,240)"
            ],
            [
             0.7,
             "rgb(146,197,222)"
            ],
            [
             0.8,
             "rgb(67,147,195)"
            ],
            [
             0.9,
             "rgb(33,102,172)"
            ],
            [
             1,
             "rgb(5,48,97)"
            ]
           ],
           "sequential": [
            [
             0,
             "#440154"
            ],
            [
             0.1111111111111111,
             "#482878"
            ],
            [
             0.2222222222222222,
             "#3e4989"
            ],
            [
             0.3333333333333333,
             "#31688e"
            ],
            [
             0.4444444444444444,
             "#26828e"
            ],
            [
             0.5555555555555556,
             "#1f9e89"
            ],
            [
             0.6666666666666666,
             "#35b779"
            ],
            [
             0.7777777777777778,
             "#6ece58"
            ],
            [
             0.8888888888888888,
             "#b5de2b"
            ],
            [
             1,
             "#fde725"
            ]
           ],
           "sequentialminus": [
            [
             0,
             "#440154"
            ],
            [
             0.1111111111111111,
             "#482878"
            ],
            [
             0.2222222222222222,
             "#3e4989"
            ],
            [
             0.3333333333333333,
             "#31688e"
            ],
            [
             0.4444444444444444,
             "#26828e"
            ],
            [
             0.5555555555555556,
             "#1f9e89"
            ],
            [
             0.6666666666666666,
             "#35b779"
            ],
            [
             0.7777777777777778,
             "#6ece58"
            ],
            [
             0.8888888888888888,
             "#b5de2b"
            ],
            [
             1,
             "#fde725"
            ]
           ]
          },
          "colorway": [
           "#1F77B4",
           "#FF7F0E",
           "#2CA02C",
           "#D62728",
           "#9467BD",
           "#8C564B",
           "#E377C2",
           "#7F7F7F",
           "#BCBD22",
           "#17BECF"
          ],
          "font": {
           "color": "rgb(36,36,36)"
          },
          "geo": {
           "bgcolor": "white",
           "lakecolor": "white",
           "landcolor": "white",
           "showlakes": true,
           "showland": true,
           "subunitcolor": "white"
          },
          "hoverlabel": {
           "align": "left"
          },
          "hovermode": "closest",
          "mapbox": {
           "style": "light"
          },
          "paper_bgcolor": "white",
          "plot_bgcolor": "white",
          "polar": {
           "angularaxis": {
            "gridcolor": "rgb(232,232,232)",
            "linecolor": "rgb(36,36,36)",
            "showgrid": false,
            "showline": true,
            "ticks": "outside"
           },
           "bgcolor": "white",
           "radialaxis": {
            "gridcolor": "rgb(232,232,232)",
            "linecolor": "rgb(36,36,36)",
            "showgrid": false,
            "showline": true,
            "ticks": "outside"
           }
          },
          "scene": {
           "xaxis": {
            "backgroundcolor": "white",
            "gridcolor": "rgb(232,232,232)",
            "gridwidth": 2,
            "linecolor": "rgb(36,36,36)",
            "showbackground": true,
            "showgrid": false,
            "showline": true,
            "ticks": "outside",
            "zeroline": false,
            "zerolinecolor": "rgb(36,36,36)"
           },
           "yaxis": {
            "backgroundcolor": "white",
            "gridcolor": "rgb(232,232,232)",
            "gridwidth": 2,
            "linecolor": "rgb(36,36,36)",
            "showbackground": true,
            "showgrid": false,
            "showline": true,
            "ticks": "outside",
            "zeroline": false,
            "zerolinecolor": "rgb(36,36,36)"
           },
           "zaxis": {
            "backgroundcolor": "white",
            "gridcolor": "rgb(232,232,232)",
            "gridwidth": 2,
            "linecolor": "rgb(36,36,36)",
            "showbackground": true,
            "showgrid": false,
            "showline": true,
            "ticks": "outside",
            "zeroline": false,
            "zerolinecolor": "rgb(36,36,36)"
           }
          },
          "shapedefaults": {
           "fillcolor": "black",
           "line": {
            "width": 0
           },
           "opacity": 0.3
          },
          "ternary": {
           "aaxis": {
            "gridcolor": "rgb(232,232,232)",
            "linecolor": "rgb(36,36,36)",
            "showgrid": false,
            "showline": true,
            "ticks": "outside"
           },
           "baxis": {
            "gridcolor": "rgb(232,232,232)",
            "linecolor": "rgb(36,36,36)",
            "showgrid": false,
            "showline": true,
            "ticks": "outside"
           },
           "bgcolor": "white",
           "caxis": {
            "gridcolor": "rgb(232,232,232)",
            "linecolor": "rgb(36,36,36)",
            "showgrid": false,
            "showline": true,
            "ticks": "outside"
           }
          },
          "title": {
           "x": 0.05
          },
          "xaxis": {
           "automargin": true,
           "gridcolor": "rgb(232,232,232)",
           "linecolor": "rgb(36,36,36)",
           "showgrid": false,
           "showline": true,
           "ticks": "outside",
           "title": {
            "standoff": 15
           },
           "zeroline": false,
           "zerolinecolor": "rgb(36,36,36)"
          },
          "yaxis": {
           "automargin": true,
           "gridcolor": "rgb(232,232,232)",
           "linecolor": "rgb(36,36,36)",
           "showgrid": false,
           "showline": true,
           "ticks": "outside",
           "title": {
            "standoff": 15
           },
           "zeroline": false,
           "zerolinecolor": "rgb(36,36,36)"
          }
         }
        },
        "title": {
         "text": "세그먼트별 고객 수",
         "x": 0.5
        },
        "xaxis": {
         "anchor": "y",
         "categoryarray": [
          "일반 고객",
          "우수 고객",
          "이탈 위험 고객"
         ],
         "categoryorder": "array",
         "domain": [
          0,
          1
         ],
         "title": {
          "text": "세그먼트"
         }
        },
        "yaxis": {
         "anchor": "x",
         "domain": [
          0,
          1
         ],
         "title": {
          "text": "고객 수"
         }
        }
       }
      }
     },
     "metadata": {},
     "output_type": "display_data"
    }
   ],
   "source": [
    "# 세그먼트별 선호 제품이나 재구매 간격\n",
    "\n",
    "segment_cnt = order_segment.groupby('user_id').Segment.unique().to_frame('Segment').reset_index()\n",
    "segment_cnt.Segment = segment_cnt.Segment.apply(lambda x: x[0])\n",
    "segment_cnt = segment_cnt.groupby('Segment').size().to_frame('cnt').reset_index().sort_values('cnt', ascending=False)\n",
    "\n",
    "fig = px.bar(segment_cnt, x='Segment', y='cnt', color='Segment', text_auto=True)\n",
    "fig.update_layout(title=dict(text='세그먼트별 고객 수',\n",
    "                             x=0.5),\n",
    "                xaxis_title='세그먼트',\n",
    "                yaxis_title='고객 수',\n",
    "                template='simple_white')\n",
    "fig.show()"
   ]
  },
  {
   "cell_type": "code",
   "execution_count": 8,
   "id": "e8970cbf",
   "metadata": {},
   "outputs": [],
   "source": [
    "order_items_segment = pd.merge(order_items, rfm[['user_id', 'Segment']], how='left', on='user_id' )\n",
    "user_segment = pd.merge(users, rfm[['user_id', 'Segment']], how='left', on='user_id')\n",
    "event_segment = pd.merge(event, rfm[['user_id', 'Segment']], how='left', on='user_id')"
   ]
  },
  {
   "cell_type": "code",
   "execution_count": 9,
   "id": "61045117",
   "metadata": {},
   "outputs": [],
   "source": [
    "order_items_segment_product = pd.merge(order_items_segment, products[['product_id', 'category', 'name', 'brand']], how='left', on='product_id')"
   ]
  },
  {
   "cell_type": "code",
   "execution_count": 10,
   "id": "b11af146",
   "metadata": {},
   "outputs": [],
   "source": [
    "# 비회원x 구매 경험\n",
    "\n",
    "event = event[(event.user_id != -1) & (event.user_id.isin(event[event.event_type=='purchase'].user_id))]\n",
    "\n",
    "event_cnt = event.groupby(['user_id', 'event_type']).size().to_frame('event_cnt').reset_index()\n",
    "\n",
    "def is_repurchase(x):\n",
    "    if x>=2:\n",
    "        return 'repurchase'\n",
    "    else:\n",
    "        return 'no_repurchase'\n",
    "    \n",
    "event_cnt['is_repurchase'] = event_cnt.event_cnt.apply(is_repurchase)\n",
    "event_cnt_df = pd.merge(event, event_cnt[['user_id', 'event_cnt', 'is_repurchase']], how='left', on='user_id')"
   ]
  },
  {
   "cell_type": "code",
   "execution_count": 11,
   "id": "046edf41",
   "metadata": {},
   "outputs": [],
   "source": [
    "orders = orders[~orders.status.isin(['Cancelled', 'Returned'])]\n",
    "\n",
    "orders.sort_values(by=['user_id', 'created_at'], ascending=[True, True])\n",
    "\n",
    "orders.loc[:, 'previous_purchase'] = orders.groupby('user_id')['created_at'].shift(1)  # 이전 구매 날짜\n",
    "orders.loc[:, 'purchase_interval'] = (orders['created_at'] - orders['previous_purchase']).dt.days  # 구매 간격(일 단위)\n",
    "\n",
    "orders_repurchase = pd.merge(orders, event_cnt[['user_id', 'is_repurchase']], how='left', on='user_id')"
   ]
  },
  {
   "cell_type": "code",
   "execution_count": 12,
   "id": "65c23f97",
   "metadata": {},
   "outputs": [],
   "source": [
    "# 2 주문 수\n",
    "\n",
    "event = event[event.user_id != -1]\n",
    "event['created_at'] = pd.to_datetime(event['created_at'])\n",
    "\n",
    "event = event.sort_values(by=['user_id', 'created_at'])\n",
    "\n",
    "# 이전 방문 시간 (세션 단위로)\n",
    "event['previous_visit'] = event.groupby('user_id')['created_at'].shift(1)\n",
    "\n",
    "# 방문 간격 계산\n",
    "event['visit_interval_days'] = (event['created_at'] - event['previous_visit']).dt.days\n",
    "event['visit_interval_hours'] = (event['created_at'] - event['previous_visit']).dt.total_seconds() / 3600\n"
   ]
  },
  {
   "cell_type": "code",
   "execution_count": 13,
   "id": "88aa6be1",
   "metadata": {},
   "outputs": [],
   "source": [
    "# 전처리\n",
    "event['created_at'] = pd.to_datetime(event['created_at'])\n",
    "\n",
    "# user_id와 session_id로 그룹화해서 각 세션의 시작 시간 구하기\n",
    "session_start = event.groupby(['user_id', 'session_id'])['created_at'].min().reset_index()\n",
    "session_start = session_start.sort_values(by=['user_id', 'created_at'])\n",
    "\n",
    "# 이전 세션 시간 추가\n",
    "session_start['previous_session_time'] = session_start.groupby('user_id')['created_at'].shift(1)\n",
    "\n",
    "# 재방문 간격 계산\n",
    "session_start['revisit_interval'] = (session_start['created_at'] - session_start['previous_session_time']).dt.total_seconds() / 86400  # 시간 단위"
   ]
  },
  {
   "cell_type": "code",
   "execution_count": 14,
   "id": "55e5fefb",
   "metadata": {},
   "outputs": [],
   "source": [
    "session_start = session_start[session_start.revisit_interval.notna()]\n",
    "session_start['revisit_interval'] = session_start.revisit_interval.round()"
   ]
  },
  {
   "cell_type": "code",
   "execution_count": 15,
   "id": "516cf725",
   "metadata": {},
   "outputs": [],
   "source": [
    "orders['is_repurchase'] = ~orders['previous_purchase'].isna()"
   ]
  },
  {
   "cell_type": "code",
   "execution_count": 16,
   "id": "c55b8b23",
   "metadata": {},
   "outputs": [],
   "source": [
    "order_items = order_items[order_items.status.isin(['Cancelled', 'Returned'])]\n",
    "order_items = pd.merge(order_items, products[['product_id', 'brand']], how='left', on='product_id')\n",
    "brand_cnt = order_items.groupby('user_id').brand.size().to_frame('brand_cnt').reset_index()\n",
    "\n",
    "orders = pd.merge(orders, brand_cnt, how='left', on='user_id')"
   ]
  },
  {
   "cell_type": "code",
   "execution_count": 17,
   "id": "968faeb0",
   "metadata": {},
   "outputs": [],
   "source": [
    "event_cnt = event.groupby('user_id').size().to_frame('event_cnt').reset_index()\n",
    "\n",
    "orders = pd.merge(orders, event_cnt, how='left', on='user_id')"
   ]
  },
  {
   "cell_type": "code",
   "execution_count": 18,
   "id": "ba4cba11",
   "metadata": {},
   "outputs": [],
   "source": [
    "revisit = session_start.groupby('user_id').revisit_interval.mean().to_frame('revisit_interval').reset_index()\n",
    "\n",
    "orders = pd.merge(orders, revisit, how='left', on='user_id')"
   ]
  },
  {
   "cell_type": "code",
   "execution_count": 19,
   "id": "cb46d8d5",
   "metadata": {},
   "outputs": [
    {
     "data": {
      "text/plain": [
       "10.0"
      ]
     },
     "execution_count": 19,
     "metadata": {},
     "output_type": "execute_result"
    }
   ],
   "source": [
    "event.groupby('user_id').size().median()"
   ]
  },
  {
   "cell_type": "code",
   "execution_count": 20,
   "id": "cf3cfc43",
   "metadata": {},
   "outputs": [
    {
     "data": {
      "text/plain": [
       "98.0"
      ]
     },
     "execution_count": 20,
     "metadata": {},
     "output_type": "execute_result"
    }
   ],
   "source": [
    "orders.revisit_interval.median()"
   ]
  },
  {
   "cell_type": "markdown",
   "id": "1c99e4db",
   "metadata": {},
   "source": [
    "### 유저 그룹 분할(직접 만든 기준)\n",
    "\n",
    "| 유형                             | 조건                                                                 | 고객 유형 이름         |\n",
    "|----------------------------------|----------------------------------------------------------------------|------------------------|\n",
    "| 재구매o + 적극탐색 + 빠른 재방문 | 재구매o(2개 이상) + 이벤트 많음(10개 이상) + 재방문 주기 빠름(98일 이내) | 충성 고객 - 지연       |\n",
    "| 재구매x + 탐색 적음 + 재방문 기간 긺 | 재구매x + (이벤트 적음 or 재방문 기간 긺(98일 이외))                       | 이탈 위험 - 준우       |\n",
    "| 재구매x + 탐색 많음              | 재구매x + 이벤트 많음                                                 | 재구매 기회 존재 - 덕진 |\n",
    "| 단일 브랜드 + 재방문 기간 긺     | 특정 브랜드 비중 매우 높음 + 재방문 기간 긺                              | 브랜드 의존 고객 - 태윤 |\n"
   ]
  },
  {
   "cell_type": "code",
   "execution_count": 21,
   "id": "3c1c2474",
   "metadata": {},
   "outputs": [],
   "source": [
    "def classify_user(row):\n",
    "    if row['is_repurchase'] == 1 and row['event_cnt'] >= 10 and row['revisit_interval'] <= 98:\n",
    "        return '충성 고객'\n",
    "    elif row['is_repurchase'] == 0 and (row['event_cnt'] < 10 or row['revisit_interval'] > 98):\n",
    "        return '이탈 위험'\n",
    "    elif row['is_repurchase'] == 0 and row['event_cnt'] >= 10:\n",
    "        return '재구매 기회 존재'\n",
    "    elif row['brand_cnt'] == 1 and row['revisit_interval'] >= 98:         \n",
    "        return '브랜드 의존 고객'\n",
    "    else:\n",
    "        return '기타'\n",
    "\n",
    "orders['user_segment'] = orders.apply(classify_user, axis=1)\n",
    "orders.drop_duplicates(subset='user_id', keep='last')[['user_id', 'user_segment']].groupby('user_segment').size()\n",
    "\n",
    "seg = orders.drop_duplicates(subset='user_id', keep='last')[['user_id', 'user_segment']]\n",
    "\n",
    "orders = orders.drop('user_segment', axis=1)"
   ]
  },
  {
   "cell_type": "code",
   "execution_count": 22,
   "id": "37db5476",
   "metadata": {},
   "outputs": [],
   "source": [
    "orders = pd.merge(orders, seg, how='left', on='user_id')"
   ]
  },
  {
   "cell_type": "code",
   "execution_count": 23,
   "id": "f9314740",
   "metadata": {},
   "outputs": [
    {
     "data": {
      "text/plain": [
       "user_segment\n",
       "기타           10261\n",
       "브랜드 의존 고객     1862\n",
       "이탈 위험        31381\n",
       "재구매 기회 존재    14714\n",
       "충성 고객         8118\n",
       "dtype: int64"
      ]
     },
     "execution_count": 23,
     "metadata": {},
     "output_type": "execute_result"
    }
   ],
   "source": [
    "orders.drop_duplicates(subset='user_id', keep='last')[['user_id', 'user_segment']].groupby('user_segment').size()"
   ]
  },
  {
   "cell_type": "code",
   "execution_count": 24,
   "id": "9875acea",
   "metadata": {},
   "outputs": [],
   "source": [
    "purchase_cnt = orders.groupby('user_id').size().to_frame('purchase_cnt').reset_index()\n",
    "orders = pd.merge(orders, purchase_cnt, how='left', on='user_id')\n",
    "brand_user = orders[orders.user_segment == '브랜드 의존 고객']\n",
    "non_brand_user = orders[orders.user_segment != '브랜드 의존 고객']"
   ]
  },
  {
   "cell_type": "code",
   "execution_count": 25,
   "id": "83d76dea",
   "metadata": {},
   "outputs": [
    {
     "data": {
      "application/vnd.plotly.v1+json": {
       "config": {
        "plotlyServerURL": "https://plot.ly"
       },
       "data": [
        {
         "marker": {
          "color": [
           "#636EFA",
           "#EF553B"
          ]
         },
         "name": "평균 구매 횟수",
         "text": [
          2.58,
          1.74
         ],
         "textposition": "auto",
         "type": "bar",
         "x": [
          "단일 브랜드 이용",
          "다양한 브랜드 이용"
         ],
         "y": [
          2.576046864829681,
          1.7383709870533866
         ]
        }
       ],
       "layout": {
        "template": {
         "data": {
          "bar": [
           {
            "error_x": {
             "color": "rgb(36,36,36)"
            },
            "error_y": {
             "color": "rgb(36,36,36)"
            },
            "marker": {
             "line": {
              "color": "white",
              "width": 0.5
             },
             "pattern": {
              "fillmode": "overlay",
              "size": 10,
              "solidity": 0.2
             }
            },
            "type": "bar"
           }
          ],
          "barpolar": [
           {
            "marker": {
             "line": {
              "color": "white",
              "width": 0.5
             },
             "pattern": {
              "fillmode": "overlay",
              "size": 10,
              "solidity": 0.2
             }
            },
            "type": "barpolar"
           }
          ],
          "carpet": [
           {
            "aaxis": {
             "endlinecolor": "rgb(36,36,36)",
             "gridcolor": "white",
             "linecolor": "white",
             "minorgridcolor": "white",
             "startlinecolor": "rgb(36,36,36)"
            },
            "baxis": {
             "endlinecolor": "rgb(36,36,36)",
             "gridcolor": "white",
             "linecolor": "white",
             "minorgridcolor": "white",
             "startlinecolor": "rgb(36,36,36)"
            },
            "type": "carpet"
           }
          ],
          "choropleth": [
           {
            "colorbar": {
             "outlinewidth": 1,
             "tickcolor": "rgb(36,36,36)",
             "ticks": "outside"
            },
            "type": "choropleth"
           }
          ],
          "contour": [
           {
            "colorbar": {
             "outlinewidth": 1,
             "tickcolor": "rgb(36,36,36)",
             "ticks": "outside"
            },
            "colorscale": [
             [
              0,
              "#440154"
             ],
             [
              0.1111111111111111,
              "#482878"
             ],
             [
              0.2222222222222222,
              "#3e4989"
             ],
             [
              0.3333333333333333,
              "#31688e"
             ],
             [
              0.4444444444444444,
              "#26828e"
             ],
             [
              0.5555555555555556,
              "#1f9e89"
             ],
             [
              0.6666666666666666,
              "#35b779"
             ],
             [
              0.7777777777777778,
              "#6ece58"
             ],
             [
              0.8888888888888888,
              "#b5de2b"
             ],
             [
              1,
              "#fde725"
             ]
            ],
            "type": "contour"
           }
          ],
          "contourcarpet": [
           {
            "colorbar": {
             "outlinewidth": 1,
             "tickcolor": "rgb(36,36,36)",
             "ticks": "outside"
            },
            "type": "contourcarpet"
           }
          ],
          "heatmap": [
           {
            "colorbar": {
             "outlinewidth": 1,
             "tickcolor": "rgb(36,36,36)",
             "ticks": "outside"
            },
            "colorscale": [
             [
              0,
              "#440154"
             ],
             [
              0.1111111111111111,
              "#482878"
             ],
             [
              0.2222222222222222,
              "#3e4989"
             ],
             [
              0.3333333333333333,
              "#31688e"
             ],
             [
              0.4444444444444444,
              "#26828e"
             ],
             [
              0.5555555555555556,
              "#1f9e89"
             ],
             [
              0.6666666666666666,
              "#35b779"
             ],
             [
              0.7777777777777778,
              "#6ece58"
             ],
             [
              0.8888888888888888,
              "#b5de2b"
             ],
             [
              1,
              "#fde725"
             ]
            ],
            "type": "heatmap"
           }
          ],
          "heatmapgl": [
           {
            "colorbar": {
             "outlinewidth": 1,
             "tickcolor": "rgb(36,36,36)",
             "ticks": "outside"
            },
            "colorscale": [
             [
              0,
              "#440154"
             ],
             [
              0.1111111111111111,
              "#482878"
             ],
             [
              0.2222222222222222,
              "#3e4989"
             ],
             [
              0.3333333333333333,
              "#31688e"
             ],
             [
              0.4444444444444444,
              "#26828e"
             ],
             [
              0.5555555555555556,
              "#1f9e89"
             ],
             [
              0.6666666666666666,
              "#35b779"
             ],
             [
              0.7777777777777778,
              "#6ece58"
             ],
             [
              0.8888888888888888,
              "#b5de2b"
             ],
             [
              1,
              "#fde725"
             ]
            ],
            "type": "heatmapgl"
           }
          ],
          "histogram": [
           {
            "marker": {
             "line": {
              "color": "white",
              "width": 0.6
             }
            },
            "type": "histogram"
           }
          ],
          "histogram2d": [
           {
            "colorbar": {
             "outlinewidth": 1,
             "tickcolor": "rgb(36,36,36)",
             "ticks": "outside"
            },
            "colorscale": [
             [
              0,
              "#440154"
             ],
             [
              0.1111111111111111,
              "#482878"
             ],
             [
              0.2222222222222222,
              "#3e4989"
             ],
             [
              0.3333333333333333,
              "#31688e"
             ],
             [
              0.4444444444444444,
              "#26828e"
             ],
             [
              0.5555555555555556,
              "#1f9e89"
             ],
             [
              0.6666666666666666,
              "#35b779"
             ],
             [
              0.7777777777777778,
              "#6ece58"
             ],
             [
              0.8888888888888888,
              "#b5de2b"
             ],
             [
              1,
              "#fde725"
             ]
            ],
            "type": "histogram2d"
           }
          ],
          "histogram2dcontour": [
           {
            "colorbar": {
             "outlinewidth": 1,
             "tickcolor": "rgb(36,36,36)",
             "ticks": "outside"
            },
            "colorscale": [
             [
              0,
              "#440154"
             ],
             [
              0.1111111111111111,
              "#482878"
             ],
             [
              0.2222222222222222,
              "#3e4989"
             ],
             [
              0.3333333333333333,
              "#31688e"
             ],
             [
              0.4444444444444444,
              "#26828e"
             ],
             [
              0.5555555555555556,
              "#1f9e89"
             ],
             [
              0.6666666666666666,
              "#35b779"
             ],
             [
              0.7777777777777778,
              "#6ece58"
             ],
             [
              0.8888888888888888,
              "#b5de2b"
             ],
             [
              1,
              "#fde725"
             ]
            ],
            "type": "histogram2dcontour"
           }
          ],
          "mesh3d": [
           {
            "colorbar": {
             "outlinewidth": 1,
             "tickcolor": "rgb(36,36,36)",
             "ticks": "outside"
            },
            "type": "mesh3d"
           }
          ],
          "parcoords": [
           {
            "line": {
             "colorbar": {
              "outlinewidth": 1,
              "tickcolor": "rgb(36,36,36)",
              "ticks": "outside"
             }
            },
            "type": "parcoords"
           }
          ],
          "pie": [
           {
            "automargin": true,
            "type": "pie"
           }
          ],
          "scatter": [
           {
            "fillpattern": {
             "fillmode": "overlay",
             "size": 10,
             "solidity": 0.2
            },
            "type": "scatter"
           }
          ],
          "scatter3d": [
           {
            "line": {
             "colorbar": {
              "outlinewidth": 1,
              "tickcolor": "rgb(36,36,36)",
              "ticks": "outside"
             }
            },
            "marker": {
             "colorbar": {
              "outlinewidth": 1,
              "tickcolor": "rgb(36,36,36)",
              "ticks": "outside"
             }
            },
            "type": "scatter3d"
           }
          ],
          "scattercarpet": [
           {
            "marker": {
             "colorbar": {
              "outlinewidth": 1,
              "tickcolor": "rgb(36,36,36)",
              "ticks": "outside"
             }
            },
            "type": "scattercarpet"
           }
          ],
          "scattergeo": [
           {
            "marker": {
             "colorbar": {
              "outlinewidth": 1,
              "tickcolor": "rgb(36,36,36)",
              "ticks": "outside"
             }
            },
            "type": "scattergeo"
           }
          ],
          "scattergl": [
           {
            "marker": {
             "colorbar": {
              "outlinewidth": 1,
              "tickcolor": "rgb(36,36,36)",
              "ticks": "outside"
             }
            },
            "type": "scattergl"
           }
          ],
          "scattermapbox": [
           {
            "marker": {
             "colorbar": {
              "outlinewidth": 1,
              "tickcolor": "rgb(36,36,36)",
              "ticks": "outside"
             }
            },
            "type": "scattermapbox"
           }
          ],
          "scatterpolar": [
           {
            "marker": {
             "colorbar": {
              "outlinewidth": 1,
              "tickcolor": "rgb(36,36,36)",
              "ticks": "outside"
             }
            },
            "type": "scatterpolar"
           }
          ],
          "scatterpolargl": [
           {
            "marker": {
             "colorbar": {
              "outlinewidth": 1,
              "tickcolor": "rgb(36,36,36)",
              "ticks": "outside"
             }
            },
            "type": "scatterpolargl"
           }
          ],
          "scatterternary": [
           {
            "marker": {
             "colorbar": {
              "outlinewidth": 1,
              "tickcolor": "rgb(36,36,36)",
              "ticks": "outside"
             }
            },
            "type": "scatterternary"
           }
          ],
          "surface": [
           {
            "colorbar": {
             "outlinewidth": 1,
             "tickcolor": "rgb(36,36,36)",
             "ticks": "outside"
            },
            "colorscale": [
             [
              0,
              "#440154"
             ],
             [
              0.1111111111111111,
              "#482878"
             ],
             [
              0.2222222222222222,
              "#3e4989"
             ],
             [
              0.3333333333333333,
              "#31688e"
             ],
             [
              0.4444444444444444,
              "#26828e"
             ],
             [
              0.5555555555555556,
              "#1f9e89"
             ],
             [
              0.6666666666666666,
              "#35b779"
             ],
             [
              0.7777777777777778,
              "#6ece58"
             ],
             [
              0.8888888888888888,
              "#b5de2b"
             ],
             [
              1,
              "#fde725"
             ]
            ],
            "type": "surface"
           }
          ],
          "table": [
           {
            "cells": {
             "fill": {
              "color": "rgb(237,237,237)"
             },
             "line": {
              "color": "white"
             }
            },
            "header": {
             "fill": {
              "color": "rgb(217,217,217)"
             },
             "line": {
              "color": "white"
             }
            },
            "type": "table"
           }
          ]
         },
         "layout": {
          "annotationdefaults": {
           "arrowhead": 0,
           "arrowwidth": 1
          },
          "autotypenumbers": "strict",
          "coloraxis": {
           "colorbar": {
            "outlinewidth": 1,
            "tickcolor": "rgb(36,36,36)",
            "ticks": "outside"
           }
          },
          "colorscale": {
           "diverging": [
            [
             0,
             "rgb(103,0,31)"
            ],
            [
             0.1,
             "rgb(178,24,43)"
            ],
            [
             0.2,
             "rgb(214,96,77)"
            ],
            [
             0.3,
             "rgb(244,165,130)"
            ],
            [
             0.4,
             "rgb(253,219,199)"
            ],
            [
             0.5,
             "rgb(247,247,247)"
            ],
            [
             0.6,
             "rgb(209,229,240)"
            ],
            [
             0.7,
             "rgb(146,197,222)"
            ],
            [
             0.8,
             "rgb(67,147,195)"
            ],
            [
             0.9,
             "rgb(33,102,172)"
            ],
            [
             1,
             "rgb(5,48,97)"
            ]
           ],
           "sequential": [
            [
             0,
             "#440154"
            ],
            [
             0.1111111111111111,
             "#482878"
            ],
            [
             0.2222222222222222,
             "#3e4989"
            ],
            [
             0.3333333333333333,
             "#31688e"
            ],
            [
             0.4444444444444444,
             "#26828e"
            ],
            [
             0.5555555555555556,
             "#1f9e89"
            ],
            [
             0.6666666666666666,
             "#35b779"
            ],
            [
             0.7777777777777778,
             "#6ece58"
            ],
            [
             0.8888888888888888,
             "#b5de2b"
            ],
            [
             1,
             "#fde725"
            ]
           ],
           "sequentialminus": [
            [
             0,
             "#440154"
            ],
            [
             0.1111111111111111,
             "#482878"
            ],
            [
             0.2222222222222222,
             "#3e4989"
            ],
            [
             0.3333333333333333,
             "#31688e"
            ],
            [
             0.4444444444444444,
             "#26828e"
            ],
            [
             0.5555555555555556,
             "#1f9e89"
            ],
            [
             0.6666666666666666,
             "#35b779"
            ],
            [
             0.7777777777777778,
             "#6ece58"
            ],
            [
             0.8888888888888888,
             "#b5de2b"
            ],
            [
             1,
             "#fde725"
            ]
           ]
          },
          "colorway": [
           "#1F77B4",
           "#FF7F0E",
           "#2CA02C",
           "#D62728",
           "#9467BD",
           "#8C564B",
           "#E377C2",
           "#7F7F7F",
           "#BCBD22",
           "#17BECF"
          ],
          "font": {
           "color": "rgb(36,36,36)"
          },
          "geo": {
           "bgcolor": "white",
           "lakecolor": "white",
           "landcolor": "white",
           "showlakes": true,
           "showland": true,
           "subunitcolor": "white"
          },
          "hoverlabel": {
           "align": "left"
          },
          "hovermode": "closest",
          "mapbox": {
           "style": "light"
          },
          "paper_bgcolor": "white",
          "plot_bgcolor": "white",
          "polar": {
           "angularaxis": {
            "gridcolor": "rgb(232,232,232)",
            "linecolor": "rgb(36,36,36)",
            "showgrid": false,
            "showline": true,
            "ticks": "outside"
           },
           "bgcolor": "white",
           "radialaxis": {
            "gridcolor": "rgb(232,232,232)",
            "linecolor": "rgb(36,36,36)",
            "showgrid": false,
            "showline": true,
            "ticks": "outside"
           }
          },
          "scene": {
           "xaxis": {
            "backgroundcolor": "white",
            "gridcolor": "rgb(232,232,232)",
            "gridwidth": 2,
            "linecolor": "rgb(36,36,36)",
            "showbackground": true,
            "showgrid": false,
            "showline": true,
            "ticks": "outside",
            "zeroline": false,
            "zerolinecolor": "rgb(36,36,36)"
           },
           "yaxis": {
            "backgroundcolor": "white",
            "gridcolor": "rgb(232,232,232)",
            "gridwidth": 2,
            "linecolor": "rgb(36,36,36)",
            "showbackground": true,
            "showgrid": false,
            "showline": true,
            "ticks": "outside",
            "zeroline": false,
            "zerolinecolor": "rgb(36,36,36)"
           },
           "zaxis": {
            "backgroundcolor": "white",
            "gridcolor": "rgb(232,232,232)",
            "gridwidth": 2,
            "linecolor": "rgb(36,36,36)",
            "showbackground": true,
            "showgrid": false,
            "showline": true,
            "ticks": "outside",
            "zeroline": false,
            "zerolinecolor": "rgb(36,36,36)"
           }
          },
          "shapedefaults": {
           "fillcolor": "black",
           "line": {
            "width": 0
           },
           "opacity": 0.3
          },
          "ternary": {
           "aaxis": {
            "gridcolor": "rgb(232,232,232)",
            "linecolor": "rgb(36,36,36)",
            "showgrid": false,
            "showline": true,
            "ticks": "outside"
           },
           "baxis": {
            "gridcolor": "rgb(232,232,232)",
            "linecolor": "rgb(36,36,36)",
            "showgrid": false,
            "showline": true,
            "ticks": "outside"
           },
           "bgcolor": "white",
           "caxis": {
            "gridcolor": "rgb(232,232,232)",
            "linecolor": "rgb(36,36,36)",
            "showgrid": false,
            "showline": true,
            "ticks": "outside"
           }
          },
          "title": {
           "x": 0.05
          },
          "xaxis": {
           "automargin": true,
           "gridcolor": "rgb(232,232,232)",
           "linecolor": "rgb(36,36,36)",
           "showgrid": false,
           "showline": true,
           "ticks": "outside",
           "title": {
            "standoff": 15
           },
           "zeroline": false,
           "zerolinecolor": "rgb(36,36,36)"
          },
          "yaxis": {
           "automargin": true,
           "gridcolor": "rgb(232,232,232)",
           "linecolor": "rgb(36,36,36)",
           "showgrid": false,
           "showline": true,
           "ticks": "outside",
           "title": {
            "standoff": 15
           },
           "zeroline": false,
           "zerolinecolor": "rgb(36,36,36)"
          }
         }
        },
        "title": {
         "text": "단일 브랜드 vs 다양한 브랜드 이용 고객 비교",
         "x": 0.5
        },
        "updatemenus": [
         {
          "active": 0,
          "buttons": [
           {
            "args": [
             {
              "marker.color": [
               [
                "#636EFA",
                "#EF553B"
               ]
              ],
              "text": [
               [
                2.58,
                1.74
               ]
              ],
              "y": [
               [
                2.576046864829681,
                1.7383709870533866
               ]
              ]
             },
             {
              "title": "평균 구매 횟수"
             }
            ],
            "label": "평균 구매 횟수",
            "method": "update"
           },
           {
            "args": [
             {
              "marker.color": [
               [
                "#636EFA",
                "#EF553B"
               ]
              ],
              "text": [
               [
                29.03,
                20.8
               ]
              ],
              "y": [
               [
                29.027337817313953,
                20.802499804178275
               ]
              ]
             },
             {
              "title": "평균 이벤트 발생 횟수"
             }
            ],
            "label": "평균 이벤트 발생 횟수",
            "method": "update"
           },
           {
            "args": [
             {
              "marker.color": [
               [
                "#636EFA",
                "#EF553B"
               ]
              ],
              "text": [
               [
                265.87,
                173.32
               ]
              ],
              "y": [
               [
                265.87378911859815,
                173.32180932761406
               ]
              ]
             },
             {
              "title": "평균 재방문 주기"
             }
            ],
            "label": "평균 재방문 주기",
            "method": "update"
           }
          ],
          "direction": "down",
          "showactive": true,
          "y": 1.15
         }
        ],
        "xaxis": {
         "title": {
          "text": "고객 유형"
         }
        },
        "yaxis": {
         "title": {
          "text": "값"
         }
        }
       }
      }
     },
     "metadata": {},
     "output_type": "display_data"
    }
   ],
   "source": [
    "df = pd.DataFrame({'고객 구분':['단일 브랜드 이용', '다양한 브랜드 이용'],\n",
    "                   '평균 구매 횟수':[brand_user.purchase_cnt.mean(), non_brand_user.purchase_cnt.mean()],\n",
    "                   '평균 이벤트 발생 횟수':[brand_user.event_cnt.mean(), non_brand_user.event_cnt.mean()],\n",
    "                   '평균 재방문 주기':[brand_user.revisit_interval.mean(), non_brand_user.revisit_interval.mean()]\n",
    "                   })\n",
    "fig = go.Figure()\n",
    "\n",
    "fig.add_trace(go.Bar(x=['단일 브랜드 이용', '다양한 브랜드 이용'],\n",
    "                     y=df['평균 구매 횟수'],\n",
    "                     name='평균 구매 횟수',\n",
    "                     text=df['평균 구매 횟수'].round(2),\n",
    "                     textposition='auto',\n",
    "                     marker_color=['#636EFA', '#EF553B']\n",
    "                     \n",
    "            ))\n",
    "\n",
    "fig.update_layout(\n",
    "    updatemenus=[\n",
    "        {\n",
    "            'buttons': [\n",
    "                {\n",
    "                    'args': [\n",
    "                        {'y': [df['평균 구매 횟수']],\n",
    "                         'text': [df['평균 구매 횟수'].round(2)],\n",
    "                         'marker.color': [['#636EFA', '#EF553B']]},\n",
    "                        {'title': '평균 구매 횟수'}\n",
    "                    ],\n",
    "                    'label': '평균 구매 횟수',\n",
    "                    'method': 'update'\n",
    "                },\n",
    "                {\n",
    "                    'args': [\n",
    "                        {'y': [df['평균 이벤트 발생 횟수']],\n",
    "                        'text': [df['평균 이벤트 발생 횟수'].round(2)],\n",
    "                        'marker.color': [['#636EFA', '#EF553B']]},\n",
    "                        {'title': '평균 이벤트 발생 횟수'}\n",
    "                    ],\n",
    "                    'label': '평균 이벤트 발생 횟수',\n",
    "                    'method': 'update'\n",
    "                },\n",
    "                {\n",
    "                    'args': [\n",
    "                        {'y': [df['평균 재방문 주기']],\n",
    "                        'text': [df['평균 재방문 주기'].round(2)],\n",
    "                        'marker.color': [['#636EFA', '#EF553B']]},\n",
    "                        {'title': '평균 재방문 주기'}\n",
    "                    ],\n",
    "                    'label': '평균 재방문 주기',\n",
    "                    'method': 'update'\n",
    "                }\n",
    "            ],\n",
    "            'direction': 'down',\n",
    "            'showactive': True,\n",
    "            'active': 0,\n",
    "            'y': 1.15\n",
    "        }\n",
    "    ],\n",
    "    title = dict(text='단일 브랜드 vs 다양한 브랜드 이용 고객 비교',\n",
    "                 x=0.5),\n",
    "    xaxis_title='고객 유형',\n",
    "    yaxis_title='값',\n",
    "    template='simple_white'\n",
    ")\n",
    "fig.show()"
   ]
  },
  {
   "cell_type": "code",
   "execution_count": 27,
   "id": "2823393c",
   "metadata": {},
   "outputs": [
    {
     "data": {
      "application/vnd.plotly.v1+json": {
       "config": {
        "plotlyServerURL": "https://plot.ly"
       },
       "data": [
        {
         "alignmentgroup": "True",
         "bingroup": "x",
         "hovertemplate": "revisit_interval=%{x}<br>count=%{y}<extra></extra>",
         "legendgroup": "",
         "marker": {
          "color": "#636efa",
          "pattern": {
           "shape": ""
          }
         },
         "name": "",
         "offsetgroup": "",
         "orientation": "v",
         "showlegend": false,
         "type": "histogram",
         "x": [
          122,
          122,
          165,
          165,
          165,
          222.5,
          222.5,
          268.6,
          268.6,
          268.6,
          164.75,
          164.75,
          164.75,
          126.6,
          126.6,
          126.6,
          424.3333333333333,
          424.3333333333333,
          424.3333333333333,
          420,
          420,
          103.5,
          103.5,
          103.5,
          130.66666666666666,
          130.66666666666666,
          130.66666666666666,
          142.5,
          142.5,
          142.5,
          521.6666666666666,
          521.6666666666666,
          146.33333333333334,
          146.33333333333334,
          146.33333333333334,
          222,
          222,
          160.33333333333334,
          160.33333333333334,
          160.33333333333334,
          332,
          332,
          240.66666666666666,
          240.66666666666666,
          240.66666666666666,
          158.6,
          158.6,
          158.6,
          401,
          401,
          401,
          401.25,
          401.25,
          401.25,
          148.66666666666666,
          148.66666666666666,
          148.66666666666666,
          224.5,
          224.5,
          224.5,
          198.66666666666666,
          198.66666666666666,
          198.66666666666666,
          137.83333333333334,
          137.83333333333334,
          137.83333333333334,
          604.5,
          604.5,
          149.83333333333334,
          149.83333333333334,
          149.83333333333334,
          533,
          533,
          173,
          173,
          131.83333333333334,
          131.83333333333334,
          131.83333333333334,
          141.66666666666666,
          141.66666666666666,
          141.66666666666666,
          134.5,
          134.5,
          134.5,
          165.5,
          165.5,
          370.3333333333333,
          370.3333333333333,
          370.3333333333333,
          585.5,
          585.5,
          156.33333333333334,
          156.33333333333334,
          156.33333333333334,
          172.5,
          172.5,
          172.5,
          112,
          112,
          112,
          179,
          179,
          179,
          147.33333333333334,
          147.33333333333334,
          484.3333333333333,
          484.3333333333333,
          484.3333333333333,
          143.8,
          143.8,
          143.8,
          212.5,
          212.5,
          169,
          169,
          183,
          183,
          183,
          368,
          368,
          148.6,
          148.6,
          148.6,
          610,
          610,
          281.5,
          281.5,
          281.5,
          215,
          215,
          412,
          412,
          260.5,
          260.5,
          289.5,
          289.5,
          183.33333333333334,
          183.33333333333334,
          149.2,
          149.2,
          149.2,
          332.3333333333333,
          332.3333333333333,
          332.3333333333333,
          180.25,
          180.25,
          180.25,
          144.5,
          144.5,
          505,
          505,
          505,
          222.57142857142858,
          222.57142857142858,
          222.57142857142858,
          728.5,
          728.5,
          117.5,
          117.5,
          312.5,
          312.5,
          312.5,
          350.6666666666667,
          350.6666666666667,
          103.8,
          103.8,
          115,
          115,
          115,
          155.8,
          155.8,
          288.8,
          288.8,
          255.25,
          255.25,
          255.25,
          237.33333333333334,
          237.33333333333334,
          237.33333333333334,
          203.33333333333334,
          203.33333333333334,
          141.66666666666666,
          141.66666666666666,
          143.2,
          143.2,
          143.2,
          477,
          477,
          139.75,
          139.75,
          139.75,
          335.6666666666667,
          335.6666666666667,
          335.6666666666667,
          160,
          160,
          160,
          147.66666666666666,
          147.66666666666666,
          379,
          379,
          379,
          113.33333333333333,
          113.33333333333333,
          113.33333333333333,
          277,
          277,
          277,
          109.75,
          109.75,
          250.8,
          250.8,
          286.5,
          286.5,
          129.5,
          129.5,
          458.75,
          458.75,
          114.6,
          114.6,
          114.6,
          936.5,
          936.5,
          257,
          257,
          257,
          451,
          451,
          133,
          133,
          133,
          153.75,
          153.75,
          153.75,
          265,
          265,
          265,
          100.5,
          100.5,
          100.5,
          190.5,
          190.5,
          173.66666666666666,
          173.66666666666666,
          173.66666666666666,
          130.85714285714286,
          130.85714285714286,
          130.85714285714286,
          145,
          145,
          159,
          159,
          159,
          232.5,
          232.5,
          102.25,
          102.25,
          102.25,
          794,
          794,
          233.66666666666666,
          233.66666666666666,
          135.5,
          135.5,
          165.5,
          165.5,
          474.6666666666667,
          474.6666666666667,
          474.6666666666667,
          491.5,
          491.5,
          116.5,
          116.5,
          245,
          245,
          164.5,
          164.5,
          545,
          545,
          127,
          127,
          220.75,
          220.75,
          220.75,
          511.5,
          511.5,
          128.8,
          128.8,
          190.5,
          190.5,
          100,
          100,
          294.75,
          294.75,
          294.75,
          394.75,
          394.75,
          394.75,
          120.66666666666667,
          120.66666666666667,
          265.5,
          265.5,
          228.66666666666666,
          228.66666666666666,
          215.75,
          215.75,
          196,
          196,
          147.44444444444446,
          147.44444444444446,
          147.44444444444446,
          110.33333333333333,
          110.33333333333333,
          235.5,
          235.5,
          174.5,
          174.5,
          356.75,
          356.75,
          432,
          432,
          240,
          240,
          240,
          99.2,
          99.2,
          99.2,
          222.66666666666666,
          222.66666666666666,
          222.66666666666666,
          328.6666666666667,
          328.6666666666667,
          328.6666666666667,
          398.5,
          398.5,
          125.4,
          125.4,
          125.4,
          239,
          239,
          331.5,
          331.5,
          331.5,
          303,
          303,
          116,
          116,
          116,
          426.3333333333333,
          426.3333333333333,
          369,
          369,
          203.8,
          203.8,
          202,
          202,
          275,
          275,
          271.6,
          271.6,
          434.5,
          434.5,
          274.3333333333333,
          274.3333333333333,
          274.3333333333333,
          372.6666666666667,
          372.6666666666667,
          372.6666666666667,
          424.6666666666667,
          424.6666666666667,
          244.66666666666666,
          244.66666666666666,
          139.5,
          139.5,
          148,
          148,
          458.6666666666667,
          458.6666666666667,
          458.6666666666667,
          244.66666666666666,
          244.66666666666666,
          244.66666666666666,
          238,
          238,
          234.71428571428572,
          234.71428571428572,
          234.71428571428572,
          549,
          549,
          549,
          257.6666666666667,
          257.6666666666667,
          257.6666666666667,
          200.75,
          200.75,
          188,
          188,
          188,
          115.66666666666667,
          115.66666666666667,
          115.66666666666667,
          293,
          293,
          853,
          853,
          237.33333333333334,
          237.33333333333334,
          237.33333333333334,
          203.5,
          203.5,
          203.5,
          310.5,
          310.5,
          310.5,
          345.3333333333333,
          345.3333333333333,
          345.3333333333333,
          272.3333333333333,
          272.3333333333333,
          272.3333333333333,
          127,
          127,
          127,
          483.6666666666667,
          483.6666666666667,
          483.6666666666667,
          160.75,
          160.75,
          160.75,
          106.25,
          106.25,
          106.25,
          99.66666666666667,
          99.66666666666667,
          608.5,
          608.5,
          193.8,
          193.8,
          193.8,
          189.33333333333334,
          189.33333333333334,
          164,
          164,
          345.5,
          345.5,
          192,
          192,
          242,
          242,
          445,
          445,
          432.5,
          432.5,
          124.28571428571429,
          124.28571428571429,
          124.28571428571429,
          107.33333333333333,
          107.33333333333333,
          107.33333333333333,
          467.6666666666667,
          467.6666666666667,
          175.33333333333334,
          175.33333333333334,
          142.5,
          142.5,
          142.5,
          248.8,
          248.8,
          248.8,
          114,
          114,
          105,
          105,
          116.11111111111111,
          116.11111111111111,
          116.11111111111111,
          208.5,
          208.5,
          208.5,
          175.83333333333334,
          175.83333333333334,
          175.83333333333334,
          185.5,
          185.5,
          419,
          419,
          271.25,
          271.25,
          271.25,
          210.25,
          210.25,
          210.25,
          280.5,
          280.5,
          134.5,
          134.5,
          134.5,
          524.5,
          524.5,
          186,
          186,
          165.75,
          165.75,
          153.5,
          153.5,
          170,
          170,
          205.5,
          205.5,
          205.5,
          103.25,
          103.25,
          103.25,
          138.5,
          138.5,
          176.33333333333334,
          176.33333333333334,
          331.25,
          331.25,
          258.25,
          258.25,
          258.25,
          183.57142857142858,
          183.57142857142858,
          183.57142857142858,
          315,
          315,
          315,
          308,
          308,
          129.33333333333334,
          129.33333333333334,
          129.33333333333334,
          246.33333333333334,
          246.33333333333334,
          328.6666666666667,
          328.6666666666667,
          328.6666666666667,
          221,
          221,
          221,
          201.5,
          201.5,
          410.3333333333333,
          410.3333333333333,
          381.2,
          381.2,
          381.2,
          201.8,
          201.8,
          201.8,
          668,
          668,
          372.5,
          372.5,
          107.33333333333333,
          107.33333333333333,
          107.33333333333333,
          135,
          135,
          135,
          439.6666666666667,
          439.6666666666667,
          439.6666666666667,
          107,
          107,
          255,
          255,
          167.5,
          167.5,
          167.5,
          502,
          502,
          718,
          718,
          155.5,
          155.5,
          417.75,
          417.75,
          417.75,
          205.5,
          205.5,
          136.33333333333334,
          136.33333333333334,
          198.8,
          198.8,
          158.33333333333334,
          158.33333333333334,
          697,
          697,
          153,
          153,
          219.5,
          219.5,
          219.5,
          203.33333333333334,
          203.33333333333334,
          203.33333333333334,
          298,
          298,
          298,
          160,
          160,
          248,
          248,
          248,
          136.33333333333334,
          136.33333333333334,
          225,
          225,
          806.5,
          806.5,
          252,
          252,
          252,
          239,
          239,
          239,
          140,
          140,
          109.5,
          109.5,
          109.5,
          129.875,
          129.875,
          129.875,
          230.5,
          230.5,
          167.66666666666666,
          167.66666666666666,
          167.66666666666666,
          147.6,
          147.6,
          108.4,
          108.4,
          108.4,
          168.33333333333334,
          168.33333333333334,
          474,
          474,
          190.75,
          190.75,
          422.5,
          422.5,
          422.5,
          112,
          112,
          232.6,
          232.6,
          238,
          238,
          322.6666666666667,
          322.6666666666667,
          322.6666666666667,
          399,
          399,
          169.33333333333334,
          169.33333333333334,
          169.33333333333334,
          152.25,
          152.25,
          152.25,
          313.6666666666667,
          313.6666666666667,
          313.6666666666667,
          176.66666666666666,
          176.66666666666666,
          176.66666666666666,
          359.3333333333333,
          359.3333333333333,
          177.75,
          177.75,
          177.75,
          670,
          670,
          364.5,
          364.5,
          421.6666666666667,
          421.6666666666667,
          421.6666666666667,
          708.5,
          708.5,
          171.66666666666666,
          171.66666666666666,
          171.66666666666666,
          205.5,
          205.5,
          307.3333333333333,
          307.3333333333333,
          307.3333333333333,
          292.3333333333333,
          292.3333333333333,
          110.5,
          110.5,
          559.3333333333334,
          559.3333333333334,
          559.3333333333334,
          333.5,
          333.5,
          341.5,
          341.5,
          341.5,
          260.5,
          260.5,
          110.25,
          110.25,
          110.25,
          188,
          188,
          188,
          809,
          809,
          174.66666666666666,
          174.66666666666666,
          187.66666666666666,
          187.66666666666666,
          450,
          450,
          172,
          172,
          172,
          214.71428571428572,
          214.71428571428572,
          214.71428571428572,
          131.5,
          131.5,
          170.25,
          170.25,
          170.25,
          99,
          99,
          370.25,
          370.25,
          370.25,
          270,
          270,
          270,
          133.75,
          133.75,
          100.5,
          100.5,
          352,
          352,
          449.75,
          449.75,
          449.75,
          246.4,
          246.4,
          163.6,
          163.6,
          163.6,
          375,
          375,
          375,
          177.57142857142858,
          177.57142857142858,
          177.57142857142858,
          683.6666666666666,
          683.6666666666666,
          683.6666666666666,
          204.5,
          204.5,
          204.5,
          100,
          100,
          361,
          361,
          361,
          434.75,
          434.75,
          458.5,
          458.5,
          157.33333333333334,
          157.33333333333334,
          106.5,
          106.5,
          106.5,
          169.5,
          169.5,
          169.5,
          154.5,
          154.5,
          502.5,
          502.5,
          101,
          101,
          399.5,
          399.5,
          386,
          386,
          104,
          104,
          539.6666666666666,
          539.6666666666666,
          539.6666666666666,
          197.75,
          197.75,
          197.75,
          343,
          343,
          343,
          119.75,
          119.75,
          399,
          399,
          205,
          205,
          326.6666666666667,
          326.6666666666667,
          326.6666666666667,
          538.6666666666666,
          538.6666666666666,
          538.6666666666666,
          239.5,
          239.5,
          239.5,
          196.5,
          196.5,
          196.5,
          629,
          629,
          494.5,
          494.5,
          407.3333333333333,
          407.3333333333333,
          221.66666666666666,
          221.66666666666666,
          221.66666666666666,
          115.5,
          115.5,
          212.66666666666666,
          212.66666666666666,
          212.66666666666666,
          101.25,
          101.25,
          101.25,
          182,
          182,
          191.5,
          191.5,
          199,
          199,
          327.25,
          327.25,
          327.25,
          235.5,
          235.5,
          440,
          440,
          440,
          285,
          285,
          285,
          352.6666666666667,
          352.6666666666667,
          221,
          221,
          221,
          346,
          346,
          847.5,
          847.5,
          307.6666666666667,
          307.6666666666667,
          307.6666666666667,
          337.3333333333333,
          337.3333333333333,
          337.3333333333333,
          248.2,
          248.2,
          248.2,
          131.6,
          131.6,
          131.6,
          187.28571428571428,
          187.28571428571428,
          187.28571428571428,
          568,
          568,
          138.33333333333334,
          138.33333333333334,
          138.33333333333334,
          966,
          966,
          128.16666666666666,
          128.16666666666666,
          128.16666666666666,
          204.66666666666666,
          204.66666666666666,
          132.33333333333334,
          132.33333333333334,
          355,
          355,
          510,
          510,
          291,
          291,
          563.6666666666666,
          563.6666666666666,
          563.6666666666666,
          307.3333333333333,
          307.3333333333333,
          307.3333333333333,
          235,
          235,
          475,
          475,
          290.4,
          290.4,
          290.4,
          107.5,
          107.5,
          107.5,
          144,
          144,
          243.25,
          243.25,
          243.25,
          432.25,
          432.25,
          432.25,
          230.75,
          230.75,
          230.75,
          294,
          294,
          294,
          645.5,
          645.5,
          368,
          368,
          368,
          252.5,
          252.5,
          193.75,
          193.75,
          338,
          338,
          330,
          330,
          330,
          231.25,
          231.25,
          231.25,
          380.6666666666667,
          380.6666666666667,
          380.6666666666667,
          653.5,
          653.5,
          110.4,
          110.4,
          110.4,
          515,
          515,
          289.3333333333333,
          289.3333333333333,
          289.3333333333333,
          282.6666666666667,
          282.6666666666667,
          282.6666666666667,
          438.5,
          438.5,
          322.5,
          322.5,
          314.5,
          314.5,
          357.3333333333333,
          357.3333333333333,
          357.3333333333333,
          352,
          352,
          468.5,
          468.5,
          203,
          203,
          243,
          243,
          243,
          258.6666666666667,
          258.6666666666667,
          258.6666666666667,
          230.66666666666666,
          230.66666666666666,
          230.66666666666666,
          143.75,
          143.75,
          143.75,
          144,
          144,
          144,
          236,
          236,
          284,
          284,
          210,
          210,
          210,
          125,
          125,
          212.83333333333334,
          212.83333333333334,
          206.5,
          206.5,
          265.25,
          265.25,
          265.25,
          433.3333333333333,
          433.3333333333333,
          359,
          359,
          359,
          260,
          260,
          214,
          214,
          214,
          289.2,
          289.2,
          289.2,
          230.33333333333334,
          230.33333333333334,
          230.33333333333334,
          290.25,
          290.25,
          290.25,
          151,
          151,
          151,
          113,
          113,
          113,
          204.66666666666666,
          204.66666666666666,
          204.66666666666666,
          330,
          330,
          149.33333333333334,
          149.33333333333334,
          149.33333333333334,
          317.6666666666667,
          317.6666666666667,
          147.2,
          147.2,
          120.75,
          120.75,
          222.33333333333334,
          222.33333333333334,
          222.33333333333334,
          118.66666666666667,
          118.66666666666667,
          254.5,
          254.5,
          469,
          469,
          466,
          466,
          334.3333333333333,
          334.3333333333333,
          655,
          655,
          318,
          318,
          212.25,
          212.25,
          212.25,
          357,
          357,
          120.2,
          120.2,
          120.2,
          230.33333333333334,
          230.33333333333334,
          346.3333333333333,
          346.3333333333333,
          285.3333333333333,
          285.3333333333333,
          128,
          128,
          128,
          315,
          315,
          102,
          102,
          102,
          230.2,
          230.2,
          230.2,
          333.6666666666667,
          333.6666666666667,
          328.75,
          328.75,
          334,
          334,
          334,
          482,
          482,
          640.5,
          640.5,
          275,
          275,
          275,
          651,
          651,
          651,
          225.5,
          225.5,
          109,
          109,
          109,
          233.5,
          233.5,
          869.5,
          869.5,
          204.33333333333334,
          204.33333333333334,
          190.5,
          190.5,
          190.5,
          268.5,
          268.5,
          411.5,
          411.5,
          356,
          356,
          318,
          318,
          229.5,
          229.5,
          229.5,
          235.66666666666666,
          235.66666666666666,
          235.66666666666666,
          484.3333333333333,
          484.3333333333333,
          132.33333333333334,
          132.33333333333334,
          132.33333333333334,
          326,
          326,
          515.5,
          515.5,
          303,
          303,
          303,
          359.5,
          359.5,
          296.5,
          296.5,
          637,
          637,
          209,
          209,
          353,
          353,
          253,
          253,
          253,
          263.5,
          263.5,
          293.75,
          293.75,
          293.75,
          413,
          413,
          495,
          495,
          417,
          417,
          417,
          162.5,
          162.5,
          141.33333333333334,
          141.33333333333334,
          141.33333333333334,
          204.33333333333334,
          204.33333333333334,
          204.33333333333334,
          306,
          306,
          129.4,
          129.4,
          124,
          124,
          124,
          294.6666666666667,
          294.6666666666667,
          305.75,
          305.75,
          305.75,
          554.5,
          554.5,
          107.6,
          107.6,
          107.6,
          309,
          309,
          309,
          195,
          195,
          520,
          520,
          185.25,
          185.25,
          185.25,
          178.33333333333334,
          178.33333333333334,
          534.6666666666666,
          534.6666666666666,
          534.6666666666666,
          228,
          228,
          156,
          156,
          280,
          280,
          444,
          444,
          212.75,
          212.75,
          212.75,
          157.5,
          157.5,
          288.75,
          288.75,
          288.75,
          233,
          233,
          348.3333333333333,
          348.3333333333333,
          348.3333333333333,
          228.5,
          228.5,
          228.5,
          174.83333333333334,
          174.83333333333334,
          100.5,
          100.5,
          100.5,
          103.33333333333333,
          103.33333333333333,
          103.33333333333333,
          195.5,
          195.5,
          438,
          438,
          346,
          346,
          346,
          213.33333333333334,
          213.33333333333334,
          213.33333333333334,
          207,
          207,
          166,
          166,
          202.5,
          202.5,
          422.5,
          422.5,
          138.5,
          138.5,
          138.5,
          244.66666666666666,
          244.66666666666666,
          304.6666666666667,
          304.6666666666667,
          198.75,
          198.75,
          198.75,
          250.4,
          250.4,
          250.4,
          110.25,
          110.25,
          246.33333333333334,
          246.33333333333334,
          246.33333333333334,
          265.6666666666667,
          265.6666666666667,
          265.6666666666667,
          443.6666666666667,
          443.6666666666667,
          443.6666666666667,
          216.5,
          216.5,
          189.5,
          189.5,
          192.66666666666666,
          192.66666666666666,
          192.66666666666666,
          375,
          375,
          375,
          164.28571428571428,
          164.28571428571428,
          164.28571428571428,
          160.75,
          160.75,
          160.75,
          170.66666666666666,
          170.66666666666666,
          193.25,
          193.25,
          193.25,
          256.3333333333333,
          256.3333333333333,
          288,
          288,
          424.3333333333333,
          424.3333333333333,
          424.3333333333333,
          341.5,
          341.5,
          341.5,
          525,
          525,
          525,
          607,
          607,
          647,
          647,
          494.25,
          494.25,
          494.25,
          303.5,
          303.5,
          303.5,
          252.83333333333334,
          252.83333333333334,
          252.83333333333334,
          108.8,
          108.8,
          108.8,
          193.33333333333334,
          193.33333333333334,
          193.33333333333334,
          458.75,
          458.75,
          458.75,
          328.6666666666667,
          328.6666666666667,
          367.3333333333333,
          367.3333333333333,
          111.7,
          111.7,
          111.7,
          134.2,
          134.2,
          134.2,
          270.6666666666667,
          270.6666666666667,
          163,
          163,
          222.66666666666666,
          222.66666666666666,
          126.5,
          126.5,
          320,
          320,
          320,
          423,
          423,
          423,
          248,
          248,
          248,
          158.6,
          158.6,
          158.6,
          395.6666666666667,
          395.6666666666667,
          395.6666666666667,
          171.2,
          171.2,
          314.3333333333333,
          314.3333333333333,
          314.3333333333333,
          150.8,
          150.8,
          150.8,
          147.5,
          147.5,
          978,
          978,
          525,
          525,
          181,
          181,
          407.5,
          407.5,
          160.5,
          160.5,
          160.5,
          332,
          332,
          332,
          281.75,
          281.75,
          109.5,
          109.5,
          132.4,
          132.4,
          132.4,
          197.4,
          197.4,
          197.4,
          194.33333333333334,
          194.33333333333334,
          306.1666666666667,
          306.1666666666667,
          306.1666666666667,
          127.25,
          127.25,
          127.25,
          209,
          209,
          331.6666666666667,
          331.6666666666667,
          331.6666666666667,
          170.25,
          170.25,
          170.25,
          299.8,
          299.8,
          299.8,
          149,
          149,
          149,
          118.66666666666667,
          118.66666666666667,
          118.66666666666667,
          333,
          333,
          313.5,
          313.5,
          232.25,
          232.25,
          185,
          185,
          519,
          519,
          114,
          114,
          848.5,
          848.5,
          234.25,
          234.25,
          234.25,
          277,
          277,
          277,
          396,
          396,
          396,
          168,
          168,
          98.33333333333333,
          98.33333333333333,
          762.5,
          762.5,
          164,
          164,
          324.5,
          324.5,
          159,
          159,
          195.83333333333334,
          195.83333333333334,
          195.83333333333334,
          200,
          200,
          261,
          261,
          468.6666666666667,
          468.6666666666667,
          431,
          431,
          431,
          256,
          256,
          256,
          168.75,
          168.75,
          168.75,
          263.3333333333333,
          263.3333333333333,
          301.5,
          301.5,
          301.5,
          435,
          435,
          312.5,
          312.5,
          151.5,
          151.5,
          106.5,
          106.5,
          108.57142857142857,
          108.57142857142857,
          108.57142857142857,
          351,
          351,
          368.3333333333333,
          368.3333333333333,
          368.3333333333333,
          862.5,
          862.5,
          331.3333333333333,
          331.3333333333333,
          138.83333333333334,
          138.83333333333334,
          138.83333333333334,
          179.8,
          179.8,
          222.33333333333334,
          222.33333333333334,
          136.66666666666666,
          136.66666666666666,
          136.66666666666666,
          200.5,
          200.5,
          206.33333333333334,
          206.33333333333334,
          278,
          278,
          278,
          158,
          158,
          167.8,
          167.8,
          260.75,
          260.75,
          260.75,
          99.2,
          99.2,
          888,
          888,
          723,
          723,
          99,
          99,
          182.75,
          182.75,
          182.75,
          145,
          145,
          145,
          241,
          241,
          241,
          363.75,
          363.75,
          207.66666666666666,
          207.66666666666666,
          329.4,
          329.4,
          329.4,
          166.33333333333334,
          166.33333333333334,
          166.33333333333334,
          144,
          144,
          144,
          341,
          341,
          184,
          184,
          332.3333333333333,
          332.3333333333333,
          147.5,
          147.5,
          147.5,
          151,
          151,
          151,
          117.66666666666667,
          117.66666666666667,
          110.8,
          110.8,
          110.8,
          237.75,
          237.75,
          237.75,
          137,
          137,
          804,
          804,
          273,
          273,
          273,
          210.66666666666666,
          210.66666666666666,
          210.66666666666666,
          186,
          186,
          389.6666666666667,
          389.6666666666667,
          294,
          294,
          300,
          300,
          300,
          236.5,
          236.5,
          350,
          350,
          350,
          415.3333333333333,
          415.3333333333333,
          415.3333333333333,
          402.3333333333333,
          402.3333333333333,
          402.3333333333333,
          259.6666666666667,
          259.6666666666667,
          150.5,
          150.5,
          121,
          121,
          335.2,
          335.2,
          335.2,
          176,
          176,
          176,
          304,
          304,
          172,
          172,
          374.3333333333333,
          374.3333333333333,
          374.3333333333333,
          184.66666666666666,
          184.66666666666666,
          241.5,
          241.5,
          241.5,
          543.5,
          543.5,
          126.33333333333333,
          126.33333333333333,
          126.33333333333333,
          192.75,
          192.75,
          192.75,
          196.2,
          196.2,
          196.2,
          213.5,
          213.5,
          173.2,
          173.2,
          173.2,
          170,
          170,
          170,
          486,
          486,
          384.6666666666667,
          384.6666666666667,
          482,
          482,
          410.5,
          410.5,
          183,
          183,
          183,
          282.6666666666667,
          282.6666666666667,
          103.5,
          103.5,
          218,
          218,
          281.6666666666667,
          281.6666666666667,
          281.6666666666667,
          247.8,
          247.8,
          247.8,
          140.66666666666666,
          140.66666666666666,
          147.33333333333334,
          147.33333333333334,
          123,
          123,
          123,
          244.75,
          244.75,
          244.75,
          253.5,
          253.5,
          227,
          227,
          227,
          386,
          386,
          116.75,
          116.75,
          116.75,
          250.5,
          250.5,
          320.2,
          320.2,
          547.5,
          547.5,
          134.33333333333334,
          134.33333333333334,
          134.33333333333334,
          300.6666666666667,
          300.6666666666667,
          388.5,
          388.5,
          183.25,
          183.25,
          183.25,
          152,
          152,
          377,
          377,
          182,
          182,
          165.5,
          165.5,
          176.33333333333334,
          176.33333333333334,
          176.33333333333334,
          162.33333333333334,
          162.33333333333334,
          162.33333333333334,
          116,
          116,
          116,
          126.5,
          126.5,
          222.5,
          222.5,
          107,
          107,
          281.6666666666667,
          281.6666666666667,
          748,
          748,
          431,
          431,
          431,
          222,
          222,
          208.33333333333334,
          208.33333333333334,
          208.33333333333334,
          144,
          144,
          416.3333333333333,
          416.3333333333333,
          416.3333333333333,
          365,
          365,
          365,
          156.33333333333334,
          156.33333333333334,
          435,
          435,
          347,
          347,
          382.3333333333333,
          382.3333333333333,
          296.8,
          296.8,
          296.8,
          308.5,
          308.5,
          180,
          180,
          180,
          227.66666666666666,
          227.66666666666666,
          227.66666666666666,
          111.57142857142857,
          111.57142857142857,
          111.57142857142857,
          114.83333333333333,
          114.83333333333333,
          114.83333333333333,
          137.25,
          137.25,
          137.25,
          209.66666666666666,
          209.66666666666666,
          209.66666666666666,
          116,
          116,
          108.25,
          108.25,
          108.25,
          115,
          115,
          115,
          133.14285714285714,
          133.14285714285714,
          133.14285714285714,
          118.5,
          118.5,
          246,
          246,
          207.66666666666666,
          207.66666666666666,
          395.6666666666667,
          395.6666666666667,
          227.4,
          227.4,
          227.4,
          123,
          123,
          200.75,
          200.75,
          200.75,
          110,
          110,
          216,
          216,
          99,
          99,
          99,
          172.33333333333334,
          172.33333333333334,
          131.33333333333334,
          131.33333333333334,
          131.33333333333334,
          101,
          101,
          101,
          125.33333333333333,
          125.33333333333333,
          300.2,
          300.2,
          183.66666666666666,
          183.66666666666666,
          183.66666666666666,
          371.75,
          371.75,
          180,
          180,
          181.33333333333334,
          181.33333333333334,
          644,
          644,
          459.25,
          459.25,
          150,
          150,
          150,
          344.6666666666667,
          344.6666666666667,
          344.6666666666667,
          573.6666666666666,
          573.6666666666666,
          573.6666666666666,
          257.8,
          257.8,
          257.8,
          172.66666666666666,
          172.66666666666666,
          214.83333333333334,
          214.83333333333334,
          265.3333333333333,
          265.3333333333333,
          265.3333333333333,
          323.5,
          323.5,
          175.75,
          175.75,
          175.75,
          167.66666666666666,
          167.66666666666666,
          167.66666666666666,
          182.5,
          182.5,
          143.5,
          143.5,
          408.5,
          408.5,
          242.33333333333334,
          242.33333333333334,
          242.33333333333334,
          193.75,
          193.75,
          193.75,
          413,
          413,
          112,
          112,
          112,
          345,
          345,
          141.33333333333334,
          141.33333333333334,
          129.4,
          129.4,
          129.4,
          236.33333333333334,
          236.33333333333334,
          236.33333333333334,
          324.25,
          324.25,
          517.5,
          517.5,
          382,
          382,
          382,
          120.5,
          120.5,
          120.5,
          303,
          303,
          303,
          476,
          476,
          157.75,
          157.75,
          292.75,
          292.75,
          292.75,
          136,
          136,
          154.75,
          154.75,
          154.75,
          154.2,
          154.2,
          402.5,
          402.5,
          402.5,
          269.6666666666667,
          269.6666666666667,
          474.5,
          474.5,
          378,
          378,
          184.5,
          184.5,
          184.5,
          309.5,
          309.5,
          111.6,
          111.6,
          111.6,
          310.25,
          310.25,
          310.25,
          129.33333333333334,
          129.33333333333334,
          129.33333333333334,
          178.5,
          178.5,
          178.5,
          375.6666666666667,
          375.6666666666667,
          157.8,
          157.8,
          157.8,
          136.5,
          136.5,
          136.5,
          368.25,
          368.25,
          368.25,
          205,
          205,
          205,
          177.33333333333334,
          177.33333333333334,
          177.33333333333334,
          278.6666666666667,
          278.6666666666667,
          278.6666666666667,
          170,
          170,
          208.42857142857142,
          208.42857142857142,
          208.42857142857142,
          229,
          229,
          134.33333333333334,
          134.33333333333334,
          134.33333333333334,
          413,
          413,
          413,
          176.6,
          176.6,
          176.6,
          344,
          344,
          371,
          371,
          122.6,
          122.6,
          122.6,
          498,
          498,
          498,
          184,
          184,
          184,
          357.6666666666667,
          357.6666666666667,
          357.6666666666667,
          297.5,
          297.5,
          142.25,
          142.25,
          142.25,
          134.75,
          134.75,
          134.75,
          357,
          357,
          241.8,
          241.8,
          241.8,
          153.5,
          153.5,
          206.5,
          206.5,
          206.5,
          115,
          115,
          317.3333333333333,
          317.3333333333333,
          238,
          238,
          238,
          253.66666666666666,
          253.66666666666666,
          253.66666666666666,
          128.2,
          128.2,
          213.5,
          213.5,
          163.33333333333334,
          163.33333333333334,
          163.33333333333334,
          310,
          310,
          310,
          140.85714285714286,
          140.85714285714286,
          140.85714285714286,
          262.3333333333333,
          262.3333333333333,
          340,
          340,
          185.4,
          185.4,
          185.4,
          110.66666666666667,
          110.66666666666667,
          110.66666666666667,
          389.75,
          389.75,
          389.75,
          281.3333333333333,
          281.3333333333333,
          281.3333333333333,
          334.5,
          334.5,
          334.5,
          350.3333333333333,
          350.3333333333333,
          350.3333333333333,
          419.5,
          419.5,
          129,
          129,
          209.66666666666666,
          209.66666666666666,
          209.66666666666666,
          249,
          249,
          249,
          403,
          403,
          136.5,
          136.5,
          575.6666666666666,
          575.6666666666666,
          575.6666666666666,
          540,
          540,
          161.8,
          161.8,
          361.6666666666667,
          361.6666666666667,
          361.6666666666667,
          466.3333333333333,
          466.3333333333333,
          466.3333333333333,
          185.66666666666666,
          185.66666666666666,
          185.66666666666666,
          493,
          493,
          137,
          137,
          272.25,
          272.25,
          280.6666666666667,
          280.6666666666667,
          221.75,
          221.75,
          221.75,
          169.6,
          169.6,
          224,
          224,
          224,
          262,
          262,
          262,
          285.5,
          285.5,
          219.66666666666666,
          219.66666666666666,
          179.5,
          179.5,
          244.66666666666666,
          244.66666666666666,
          293.3333333333333,
          293.3333333333333,
          124.8,
          124.8,
          124.8,
          425,
          425,
          571.5,
          571.5,
          270.6666666666667,
          270.6666666666667,
          270.6666666666667,
          403.6666666666667,
          403.6666666666667,
          403.6666666666667,
          175.33333333333334,
          175.33333333333334,
          175.33333333333334,
          102.66666666666667,
          102.66666666666667,
          102.66666666666667,
          134.5,
          134.5,
          343,
          343,
          477,
          477,
          151.5,
          151.5,
          154,
          154,
          448.5,
          448.5,
          192,
          192,
          546.3333333333334,
          546.3333333333334,
          546.3333333333334,
          255,
          255,
          255,
          213.33333333333334,
          213.33333333333334,
          451.5,
          451.5,
          259.5,
          259.5,
          287.5,
          287.5,
          129,
          129,
          279.5,
          279.5,
          194,
          194,
          284,
          284,
          520,
          520,
          328.25,
          328.25,
          108.33333333333333,
          108.33333333333333,
          177.66666666666666,
          177.66666666666666,
          168.33333333333334,
          168.33333333333334,
          106.75,
          106.75,
          106.75,
          134.66666666666666,
          134.66666666666666,
          134.66666666666666,
          104.33333333333333,
          104.33333333333333,
          202.5,
          202.5,
          311.5,
          311.5,
          368,
          368,
          225,
          225,
          284.75,
          284.75,
          284.75,
          180.5,
          180.5,
          180.5,
          147.33333333333334,
          147.33333333333334,
          147.33333333333334,
          234.4,
          234.4,
          234.4,
          211,
          211,
          211.5,
          211.5,
          237.33333333333334,
          237.33333333333334,
          237.33333333333334,
          202.5,
          202.5,
          101.2,
          101.2,
          177.33333333333334,
          177.33333333333334,
          177.33333333333334,
          113.75,
          113.75,
          113.75,
          364.3333333333333,
          364.3333333333333,
          364.3333333333333,
          106,
          106,
          378.6666666666667,
          378.6666666666667,
          378.6666666666667,
          209,
          209,
          158.5,
          158.5,
          170.4,
          170.4,
          170.4,
          122.5,
          122.5,
          277,
          277,
          224.75,
          224.75,
          107,
          107,
          407.5,
          407.5,
          469.5,
          469.5,
          478.25,
          478.25,
          478.25,
          759,
          759,
          105,
          105,
          206.33333333333334,
          206.33333333333334,
          206.33333333333334,
          308.6666666666667,
          308.6666666666667,
          212.33333333333334,
          212.33333333333334,
          212.33333333333334,
          329.6666666666667,
          329.6666666666667,
          329.6666666666667,
          149,
          149,
          132.66666666666666,
          132.66666666666666,
          130.6,
          130.6,
          395.5,
          395.5,
          502.5,
          502.5,
          155.33333333333334,
          155.33333333333334,
          167.66666666666666,
          167.66666666666666,
          109.66666666666667,
          109.66666666666667,
          109.66666666666667,
          377.6666666666667,
          377.6666666666667,
          377.6666666666667,
          230,
          230,
          230,
          276.5,
          276.5,
          276.5,
          157.33333333333334,
          157.33333333333334,
          157.33333333333334,
          132.5,
          132.5,
          232.33333333333334,
          232.33333333333334,
          466.6666666666667,
          466.6666666666667,
          213.66666666666666,
          213.66666666666666,
          213.66666666666666,
          271.25,
          271.25,
          271.25,
          102.5,
          102.5,
          102.5,
          340,
          340,
          550,
          550,
          162.2,
          162.2,
          162.2,
          138.5,
          138.5,
          225.33333333333334,
          225.33333333333334,
          225.33333333333334,
          276.6666666666667,
          276.6666666666667,
          233,
          233,
          233,
          283,
          283,
          283,
          304,
          304,
          183.5,
          183.5,
          493.6666666666667,
          493.6666666666667,
          239.66666666666666,
          239.66666666666666,
          239.66666666666666,
          416.6666666666667,
          416.6666666666667,
          268,
          268,
          268,
          176.4,
          176.4,
          118.5,
          118.5,
          179,
          179,
          205,
          205,
          205,
          129.5,
          129.5,
          748.5,
          748.5,
          478,
          478,
          263.6666666666667,
          263.6666666666667,
          343.6666666666667,
          343.6666666666667,
          343.6666666666667,
          129.33333333333334,
          129.33333333333334,
          129.33333333333334,
          161.42857142857142,
          161.42857142857142,
          161.42857142857142,
          100.5,
          100.5,
          450,
          450,
          450,
          200,
          200,
          140.33333333333334,
          140.33333333333334,
          140.33333333333334,
          374,
          374,
          354.25,
          354.25,
          189,
          189,
          189,
          265,
          265,
          142,
          142,
          142,
          307.5,
          307.5,
          106.6,
          106.6,
          106.6,
          168,
          168,
          168,
          215.5,
          215.5,
          106,
          106,
          106,
          189.5,
          189.5,
          114.8,
          114.8,
          259.3333333333333,
          259.3333333333333,
          306.5,
          306.5,
          103.8,
          103.8,
          815.5,
          815.5,
          155.83333333333334,
          155.83333333333334,
          155.83333333333334,
          280.5,
          280.5,
          280.5,
          647.5,
          647.5,
          576.5,
          576.5,
          199.5,
          199.5,
          199.5,
          200.5,
          200.5,
          202.75,
          202.75,
          202.75,
          472,
          472,
          472,
          138,
          138,
          337,
          337,
          147.6,
          147.6,
          147.6,
          122.4,
          122.4,
          265.75,
          265.75,
          265.75,
          194.25,
          194.25,
          194.25,
          765.5,
          765.5,
          191.6,
          191.6,
          191.6,
          431.6666666666667,
          431.6666666666667,
          431.6666666666667,
          160.75,
          160.75,
          150.66666666666666,
          150.66666666666666,
          400.3333333333333,
          400.3333333333333,
          183.8,
          183.8,
          183.8,
          107,
          107,
          610,
          610,
          241.5,
          241.5,
          241.5,
          153.66666666666666,
          153.66666666666666,
          483,
          483,
          785.5,
          785.5,
          202,
          202,
          201.8,
          201.8,
          201.8,
          312.3333333333333,
          312.3333333333333,
          312.3333333333333,
          204,
          204,
          488,
          488,
          121.75,
          121.75,
          121.75,
          312,
          312,
          379,
          379,
          256.5,
          256.5,
          127.75,
          127.75,
          360,
          360,
          533.75,
          533.75,
          533.75,
          919,
          919,
          201.33333333333334,
          201.33333333333334,
          201.33333333333334,
          277.6,
          277.6,
          110,
          110,
          110,
          203,
          203,
          191.33333333333334,
          191.33333333333334,
          191.33333333333334,
          204,
          204,
          436.3333333333333,
          436.3333333333333,
          436.3333333333333,
          232.75,
          232.75,
          232.75,
          583.5,
          583.5,
          393.5,
          393.5,
          104.4,
          104.4,
          104.4,
          116.83333333333333,
          116.83333333333333,
          138.16666666666666,
          138.16666666666666,
          138.16666666666666,
          409.75,
          409.75,
          409.75,
          293.2,
          293.2,
          293.2,
          234.66666666666666,
          234.66666666666666,
          234.66666666666666,
          276.6666666666667,
          276.6666666666667,
          138.75,
          138.75,
          138.75,
          269,
          269,
          141.5,
          141.5,
          493.5,
          493.5,
          422,
          422,
          337.3333333333333,
          337.3333333333333,
          120.5,
          120.5,
          438.6666666666667,
          438.6666666666667,
          438.6666666666667,
          140.25,
          140.25,
          140.25,
          310.3333333333333,
          310.3333333333333,
          145,
          145,
          145,
          106.6,
          106.6,
          106.6,
          216.25,
          216.25,
          123.83333333333333,
          123.83333333333333,
          481.5,
          481.5,
          254.875,
          254.875,
          254.875,
          365.6666666666667,
          365.6666666666667,
          365.6666666666667,
          529,
          529,
          238.5,
          238.5,
          163,
          163,
          219.33333333333334,
          219.33333333333334,
          219.33333333333334,
          450.6666666666667,
          450.6666666666667,
          284,
          284,
          284,
          435,
          435,
          315.5,
          315.5,
          120.66666666666667,
          120.66666666666667,
          120.66666666666667,
          669.5,
          669.5,
          231,
          231,
          231,
          134.25,
          134.25,
          256.5,
          256.5,
          256.5,
          137.66666666666666,
          137.66666666666666,
          277.25,
          277.25,
          277.25,
          336.3333333333333,
          336.3333333333333,
          336.3333333333333,
          146.25,
          146.25,
          146.25,
          224.33333333333334,
          224.33333333333334,
          224.33333333333334,
          511.6666666666667,
          511.6666666666667,
          99,
          99,
          263.3333333333333,
          263.3333333333333,
          263.3333333333333,
          162.33333333333334,
          162.33333333333334,
          107.25,
          107.25,
          107.25,
          362.75,
          362.75,
          362.75,
          250,
          250,
          354.5,
          354.5,
          202.5,
          202.5,
          501.5,
          501.5,
          115,
          115,
          250.5,
          250.5,
          391.5,
          391.5,
          176.33333333333334,
          176.33333333333334,
          176.33333333333334,
          262.75,
          262.75,
          262.75,
          154.25,
          154.25,
          154.25,
          184.33333333333334,
          184.33333333333334,
          184.33333333333334,
          248.33333333333334,
          248.33333333333334,
          248.33333333333334,
          210,
          210,
          149.33333333333334,
          149.33333333333334,
          527.5,
          527.5,
          141.75,
          141.75,
          141.75,
          673,
          673,
          501.6666666666667,
          501.6666666666667,
          501.6666666666667,
          175.66666666666666,
          175.66666666666666,
          175.66666666666666,
          109.57142857142857,
          109.57142857142857,
          116.5,
          116.5,
          116.5,
          172,
          172,
          348,
          348,
          481.3333333333333,
          481.3333333333333,
          481.3333333333333,
          173,
          173,
          122,
          122,
          322.6666666666667,
          322.6666666666667,
          391,
          391,
          112.75,
          112.75,
          100,
          100,
          113,
          113,
          113,
          371.3333333333333,
          371.3333333333333,
          422,
          422,
          422,
          357.5,
          357.5,
          277.3333333333333,
          277.3333333333333,
          277.3333333333333,
          436,
          436,
          110.2,
          110.2,
          110.2,
          309,
          309,
          309,
          116.2,
          116.2,
          115.5,
          115.5,
          115.5,
          125.5,
          125.5,
          282.4,
          282.4,
          195.66666666666666,
          195.66666666666666,
          195.66666666666666,
          324,
          324,
          118.75,
          118.75,
          118.75,
          232,
          232,
          118.5,
          118.5,
          118.5,
          401,
          401,
          349.5,
          349.5,
          185,
          185,
          185,
          434.5,
          434.5,
          432,
          432,
          314,
          314,
          142,
          142,
          142,
          203.5,
          203.5,
          260.75,
          260.75,
          260.75,
          103.25,
          103.25,
          103.25,
          104.5,
          104.5,
          104.5,
          140.6,
          140.6,
          140.6,
          632,
          632,
          305.5,
          305.5,
          171.75,
          171.75,
          171.75,
          351.6666666666667,
          351.6666666666667,
          351.6666666666667,
          211.625,
          211.625,
          211.625,
          174,
          174,
          174,
          114.66666666666667,
          114.66666666666667,
          193.66666666666666,
          193.66666666666666,
          193.66666666666666,
          422.5,
          422.5,
          253.25,
          253.25,
          253.25,
          308,
          308,
          308,
          123.5,
          123.5,
          667.5,
          667.5,
          606,
          606,
          130.33333333333334,
          130.33333333333334,
          130.33333333333334,
          277,
          277,
          329.75,
          329.75,
          329.75,
          174.66666666666666,
          174.66666666666666,
          209,
          209,
          209,
          964,
          964,
          203.33333333333334,
          203.33333333333334,
          204.33333333333334,
          204.33333333333334,
          204.33333333333334,
          328,
          328,
          222.75,
          222.75,
          222.75,
          220,
          220,
          318.25,
          318.25,
          318.25,
          279.25,
          279.25,
          279.25,
          602.6666666666666,
          602.6666666666666,
          602.6666666666666,
          474.5,
          474.5,
          120.5,
          120.5,
          99.16666666666667,
          99.16666666666667,
          99.16666666666667,
          121.25,
          121.25,
          121.25,
          301.3333333333333,
          301.3333333333333,
          301.3333333333333,
          415.3333333333333,
          415.3333333333333,
          415.3333333333333,
          198.66666666666666,
          198.66666666666666,
          288.6666666666667,
          288.6666666666667,
          288.6666666666667,
          214.28571428571428,
          214.28571428571428,
          214.28571428571428,
          137,
          137,
          806,
          806,
          489.3333333333333,
          489.3333333333333,
          238.4,
          238.4,
          238.4,
          147,
          147,
          147,
          268.3333333333333,
          268.3333333333333,
          268.3333333333333,
          162.5,
          162.5,
          162.5,
          200.5,
          200.5,
          383.25,
          383.25,
          383.25,
          578,
          578,
          578,
          257.5,
          257.5,
          161.33333333333334,
          161.33333333333334,
          186.25,
          186.25,
          186.25,
          242.33333333333334,
          242.33333333333334,
          242.33333333333334,
          154,
          154,
          154,
          122,
          122,
          122,
          153.25,
          153.25,
          197.25,
          197.25,
          197.25,
          216.5,
          216.5,
          259,
          259,
          321,
          321,
          561.3333333333334,
          561.3333333333334,
          561.3333333333334,
          349,
          349,
          349,
          130,
          130,
          288.25,
          288.25,
          288.25,
          311.3333333333333,
          311.3333333333333,
          311.3333333333333,
          156.2,
          156.2,
          156.2,
          252.25,
          252.25,
          117.14285714285714,
          117.14285714285714,
          117.14285714285714,
          193.75,
          193.75,
          193.75,
          382.6666666666667,
          382.6666666666667,
          317,
          317,
          317,
          309,
          309,
          262.6666666666667,
          262.6666666666667,
          262.6666666666667,
          226,
          226,
          143,
          143,
          143,
          292,
          292,
          220.33333333333334,
          220.33333333333334,
          220.33333333333334,
          260.2,
          260.2,
          260.2,
          490.5,
          490.5,
          125.33333333333333,
          125.33333333333333,
          112.5,
          112.5,
          407.3333333333333,
          407.3333333333333,
          788,
          788,
          254.33333333333334,
          254.33333333333334,
          231.25,
          231.25,
          186.2,
          186.2,
          212.25,
          212.25,
          458,
          458,
          124.66666666666667,
          124.66666666666667,
          124.66666666666667,
          123.75,
          123.75,
          123.75,
          254.75,
          254.75,
          254.75,
          108.75,
          108.75,
          108.75,
          499.5,
          499.5,
          499.5,
          150,
          150,
          150,
          114.5,
          114.5,
          114.5,
          441.5,
          441.5,
          141.5,
          141.5,
          104.57142857142857,
          104.57142857142857,
          104.57142857142857,
          138,
          138,
          138,
          728,
          728,
          159.2,
          159.2,
          349.5,
          349.5,
          417.3333333333333,
          417.3333333333333,
          417.3333333333333,
          115.66666666666667,
          115.66666666666667,
          115.66666666666667,
          111.33333333333333,
          111.33333333333333,
          283,
          283,
          113,
          113,
          107.5,
          107.5,
          290,
          290,
          119.2,
          119.2,
          303.6666666666667,
          303.6666666666667,
          303.6666666666667,
          411.3333333333333,
          411.3333333333333,
          227.83333333333334,
          227.83333333333334,
          227.83333333333334,
          241,
          241,
          289.6666666666667,
          289.6666666666667,
          289.6666666666667,
          159.28571428571428,
          159.28571428571428,
          159.28571428571428,
          167.66666666666666,
          167.66666666666666,
          167.66666666666666,
          257.6666666666667,
          257.6666666666667,
          257.6666666666667,
          162.33333333333334,
          162.33333333333334,
          162.33333333333334,
          260,
          260,
          157.5,
          157.5,
          157.5,
          393.5,
          393.5,
          357.2,
          357.2,
          357.2,
          452.3333333333333,
          452.3333333333333,
          452.3333333333333,
          105,
          105,
          105,
          373.6666666666667,
          373.6666666666667,
          373.6666666666667,
          215.33333333333334,
          215.33333333333334,
          215.33333333333334,
          324.6,
          324.6,
          324.6,
          171.14285714285714,
          171.14285714285714,
          171.14285714285714,
          153.8,
          153.8,
          153.8,
          157,
          157,
          232,
          232,
          401.5,
          401.5,
          226.66666666666666,
          226.66666666666666,
          226.66666666666666,
          385.3333333333333,
          385.3333333333333,
          385.3333333333333,
          129.33333333333334,
          129.33333333333334,
          129.33333333333334,
          175.85714285714286,
          175.85714285714286,
          175.85714285714286,
          561.6666666666666,
          561.6666666666666,
          561.6666666666666,
          175.33333333333334,
          175.33333333333334,
          119.66666666666667,
          119.66666666666667,
          195.66666666666666,
          195.66666666666666,
          231.33333333333334,
          231.33333333333334,
          231.33333333333334,
          187,
          187,
          186,
          186,
          164.66666666666666,
          164.66666666666666,
          164.66666666666666,
          123,
          123,
          123,
          191.5,
          191.5,
          191.5,
          282.4,
          282.4,
          282.4,
          179,
          179,
          120.66666666666667,
          120.66666666666667,
          211,
          211,
          195,
          195,
          195,
          129.4,
          129.4,
          277,
          277,
          277,
          665,
          665,
          276,
          276,
          276,
          168.5,
          168.5,
          168.5,
          327.6666666666667,
          327.6666666666667,
          327.6666666666667,
          565.5,
          565.5,
          144.5,
          144.5,
          316.5,
          316.5,
          130.8,
          130.8,
          130.8,
          356.4,
          356.4,
          356.4,
          123.4,
          123.4,
          123.4,
          202.4,
          202.4,
          161,
          161,
          161,
          158.75,
          158.75,
          158.75,
          167.33333333333334,
          167.33333333333334,
          167.33333333333334,
          162.5,
          162.5,
          574.5,
          574.5,
          184.2,
          184.2,
          184.2,
          457.5,
          457.5,
          342,
          342,
          342,
          168.33333333333334,
          168.33333333333334,
          650.5,
          650.5,
          125,
          125,
          203.33333333333334,
          203.33333333333334,
          257.3333333333333,
          257.3333333333333,
          257.3333333333333,
          219.4,
          219.4,
          219.4,
          312.6666666666667,
          312.6666666666667,
          312.6666666666667,
          122.5,
          122.5,
          418.5,
          418.5,
          152.8,
          152.8,
          718.5,
          718.5,
          115.66666666666667,
          115.66666666666667,
          480.5,
          480.5,
          318.25,
          318.25,
          318.25,
          361.5,
          361.5,
          359.75,
          359.75,
          110.16666666666667,
          110.16666666666667,
          217.75,
          217.75,
          181.83333333333334,
          181.83333333333334,
          181.83333333333334,
          410.5,
          410.5,
          205.66666666666666,
          205.66666666666666,
          205.66666666666666,
          194.33333333333334,
          194.33333333333334,
          194.33333333333334,
          228.5,
          228.5,
          240.33333333333334,
          240.33333333333334,
          125,
          125,
          125,
          102,
          102,
          419.5,
          419.5,
          135,
          135,
          515.5,
          515.5,
          372.3333333333333,
          372.3333333333333,
          121,
          121,
          121,
          608.3333333333334,
          608.3333333333334,
          608.3333333333334,
          100,
          100,
          258.6666666666667,
          258.6666666666667,
          280,
          280,
          380,
          380,
          380,
          156,
          156,
          156,
          109.25,
          109.25,
          109.25,
          109.25,
          109.25,
          109.25,
          176,
          176,
          176,
          246.5,
          246.5,
          246.5,
          391.5,
          391.5,
          527.3333333333334,
          527.3333333333334,
          146.66666666666666,
          146.66666666666666,
          302.5,
          302.5,
          305.5,
          305.5,
          167.5,
          167.5,
          167.5,
          458,
          458,
          559,
          559,
          172.5,
          172.5,
          172.5,
          223.66666666666666,
          223.66666666666666,
          223.66666666666666,
          293.6666666666667,
          293.6666666666667,
          293.6666666666667,
          119.66666666666667,
          119.66666666666667,
          220.75,
          220.75,
          127,
          127,
          127,
          548.6666666666666,
          548.6666666666666,
          548.6666666666666,
          172.66666666666666,
          172.66666666666666,
          180,
          180,
          180,
          190.25,
          190.25,
          190.25,
          105,
          105,
          171.5,
          171.5,
          171.5,
          174,
          174,
          237.75,
          237.75,
          237.75,
          177.66666666666666,
          177.66666666666666,
          320,
          320,
          112,
          112,
          380.75,
          380.75,
          380.75,
          112.6,
          112.6,
          112.6,
          172,
          172,
          242.66666666666666,
          242.66666666666666,
          242.66666666666666,
          466.5,
          466.5,
          249.33333333333334,
          249.33333333333334,
          249.33333333333334,
          118.5,
          118.5,
          118.5,
          282,
          282,
          180,
          180,
          180,
          193.4,
          193.4,
          193.4,
          544,
          544,
          544,
          379.3333333333333,
          379.3333333333333,
          379.3333333333333,
          354,
          354,
          354,
          260.8333333333333,
          260.8333333333333,
          260.8333333333333,
          170.5,
          170.5,
          170.5,
          732,
          732,
          358,
          358,
          154.33333333333334,
          154.33333333333334,
          154.33333333333334,
          242,
          242,
          242,
          296,
          296,
          296,
          190,
          190,
          379,
          379,
          263.3333333333333,
          263.3333333333333,
          118.66666666666667,
          118.66666666666667,
          156.66666666666666,
          156.66666666666666,
          156.66666666666666,
          241.33333333333334,
          241.33333333333334,
          209,
          209,
          209,
          539,
          539,
          149,
          149,
          149,
          203.75,
          203.75,
          193.75,
          193.75,
          193.75,
          251,
          251,
          132.83333333333334,
          132.83333333333334,
          132.83333333333334,
          250.75,
          250.75,
          250.75,
          444.5,
          444.5,
          242.66666666666666,
          242.66666666666666,
          242.66666666666666,
          403.2,
          403.2,
          380.3333333333333,
          380.3333333333333,
          253,
          253,
          200.33333333333334,
          200.33333333333334,
          337,
          337,
          337,
          235,
          235,
          235,
          292,
          292,
          99.66666666666667,
          99.66666666666667,
          99.66666666666667,
          927,
          927,
          112.75,
          112.75,
          112.75,
          234,
          234,
          360.25,
          360.25,
          360.25,
          215.66666666666666,
          215.66666666666666,
          215.66666666666666,
          318,
          318,
          318,
          342.8,
          342.8,
          342.8,
          396.5,
          396.5,
          501.5,
          501.5,
          344.5,
          344.5,
          447.3333333333333,
          447.3333333333333,
          233.71428571428572,
          233.71428571428572,
          233.71428571428572,
          193.66666666666666,
          193.66666666666666,
          123.33333333333333,
          123.33333333333333,
          274,
          274,
          274,
          199,
          199,
          199,
          383.5,
          383.5,
          383.5,
          186.4,
          186.4,
          186.4,
          610.5,
          610.5,
          293,
          293,
          293,
          114,
          114,
          193.25,
          193.25,
          193.25,
          99.75,
          99.75,
          99.75,
          257.8,
          257.8,
          257.8,
          332,
          332,
          361,
          361,
          193.33333333333334,
          193.33333333333334,
          176.33333333333334,
          176.33333333333334,
          398.6666666666667,
          398.6666666666667,
          219,
          219,
          175,
          175,
          175,
          362.75,
          362.75,
          362.75,
          230.28571428571428,
          230.28571428571428,
          475,
          475,
          475,
          192.5,
          192.5,
          293.5,
          293.5,
          656,
          656,
          182.25,
          182.25,
          242,
          242,
          143.25,
          143.25,
          143.25,
          286.6666666666667,
          286.6666666666667,
          286.6666666666667,
          280.6666666666667,
          280.6666666666667,
          280.6666666666667,
          287.6,
          287.6,
          287.6,
          116.4,
          116.4,
          423,
          423,
          237.5,
          237.5,
          237.5,
          215.5,
          215.5,
          120.83333333333333,
          120.83333333333333,
          120.83333333333333,
          120,
          120,
          120,
          126.66666666666667,
          126.66666666666667,
          113,
          113,
          107.16666666666667,
          107.16666666666667,
          107.16666666666667,
          281.6,
          281.6,
          281.6,
          244.66666666666666,
          244.66666666666666,
          223,
          223,
          149,
          149,
          149,
          143.44444444444446,
          143.44444444444446,
          143.44444444444446,
          161.75,
          161.75,
          161.75,
          458.5,
          458.5,
          553.5,
          553.5,
          383,
          383,
          191,
          191,
          125.42857142857143,
          125.42857142857143,
          125.42857142857143,
          170.2,
          170.2,
          170.2,
          366.25,
          366.25,
          206.66666666666666,
          206.66666666666666,
          915.5,
          915.5,
          507,
          507,
          507,
          409.3333333333333,
          409.3333333333333,
          315,
          315,
          315,
          193.66666666666666,
          193.66666666666666,
          193.66666666666666,
          300,
          300,
          300,
          344.6666666666667,
          344.6666666666667,
          344.6666666666667,
          103.33333333333333,
          103.33333333333333,
          103.33333333333333,
          839,
          839,
          252,
          252,
          252,
          148.5,
          148.5,
          148.5,
          181.66666666666666,
          181.66666666666666,
          181.66666666666666,
          221,
          221,
          221,
          493.5,
          493.5,
          131.25,
          131.25,
          141.5,
          141.5,
          105.4,
          105.4,
          105.4,
          295.5,
          295.5,
          637,
          637,
          259.5,
          259.5,
          696.6666666666666,
          696.6666666666666,
          312.8,
          312.8,
          312.8,
          278.3333333333333,
          278.3333333333333,
          161.5,
          161.5,
          249,
          249,
          249,
          605,
          605,
          273.5,
          273.5,
          266.5,
          266.5,
          224.75,
          224.75,
          361,
          361,
          527,
          527,
          527,
          109,
          109,
          343.6666666666667,
          343.6666666666667,
          343.6666666666667,
          277.3333333333333,
          277.3333333333333,
          255.75,
          255.75,
          255.75,
          181.42857142857142,
          181.42857142857142,
          181.42857142857142,
          409.6666666666667,
          409.6666666666667,
          409.6666666666667,
          317.3333333333333,
          317.3333333333333,
          317.3333333333333,
          375.6666666666667,
          375.6666666666667,
          375.6666666666667,
          186,
          186,
          335.5,
          335.5,
          152,
          152,
          152,
          253,
          253,
          296.25,
          296.25,
          296.25,
          108.75,
          108.75,
          108.75,
          108.2,
          108.2,
          104.33333333333333,
          104.33333333333333,
          201.16666666666666,
          201.16666666666666,
          201.16666666666666,
          361.75,
          361.75,
          117,
          117,
          117,
          207.75,
          207.75,
          207.75,
          246,
          246,
          246,
          313.5,
          313.5,
          237,
          237,
          237,
          183.5,
          183.5,
          293.5,
          293.5,
          293.5,
          121.33333333333333,
          121.33333333333333,
          313.3333333333333,
          313.3333333333333,
          313.3333333333333,
          227,
          227,
          105.33333333333333,
          105.33333333333333,
          197,
          197,
          134.33333333333334,
          134.33333333333334,
          134.33333333333334,
          156,
          156,
          156,
          244.5,
          244.5,
          146,
          146,
          146,
          353.6666666666667,
          353.6666666666667,
          353.6666666666667,
          208.75,
          208.75,
          208.75,
          438.6666666666667,
          438.6666666666667,
          438.6666666666667,
          651.5,
          651.5,
          229.33333333333334,
          229.33333333333334,
          229.33333333333334,
          397.5,
          397.5,
          308,
          308,
          308,
          144.66666666666666,
          144.66666666666666,
          385.3333333333333,
          385.3333333333333,
          385.3333333333333,
          213.5,
          213.5,
          213.5,
          297.5,
          297.5,
          144.5,
          144.5,
          144.5,
          374,
          374,
          374,
          317.5,
          317.5,
          121,
          121,
          123.5,
          123.5,
          98.5,
          98.5,
          225.8,
          225.8,
          225.8,
          126,
          126,
          322.3333333333333,
          322.3333333333333,
          322.3333333333333,
          185.33333333333334,
          185.33333333333334,
          466.6666666666667,
          466.6666666666667,
          466.6666666666667,
          117.5,
          117.5,
          117.5,
          537.5,
          537.5,
          643,
          643,
          643,
          520.5,
          520.5,
          474.6666666666667,
          474.6666666666667,
          474.6666666666667,
          421,
          421,
          194,
          194,
          194,
          414.5,
          414.5,
          139.5,
          139.5,
          139.5,
          243,
          243,
          243,
          233.66666666666666,
          233.66666666666666,
          399,
          399,
          263.6666666666667,
          263.6666666666667,
          121,
          121,
          121,
          383,
          383,
          354.6666666666667,
          354.6666666666667,
          354.6666666666667,
          440,
          440,
          369.5,
          369.5,
          167.66666666666666,
          167.66666666666666,
          167.66666666666666,
          282.8,
          282.8,
          268,
          268,
          268,
          172.28571428571428,
          172.28571428571428,
          172.28571428571428,
          150,
          150,
          150,
          351.5,
          351.5,
          102.25,
          102.25,
          102.25,
          295,
          295,
          130,
          130,
          316,
          316,
          316,
          216,
          216,
          216,
          328.75,
          328.75,
          328.75,
          139,
          139,
          508,
          508,
          546,
          546,
          225.75,
          225.75,
          225.75,
          120.625,
          120.625,
          120.625,
          265.5,
          265.5,
          279,
          279,
          279,
          227.66666666666666,
          227.66666666666666,
          227.66666666666666,
          305.6666666666667,
          305.6666666666667,
          174.2,
          174.2,
          174.2,
          212,
          212,
          156.75,
          156.75,
          159.5,
          159.5,
          159.5,
          294,
          294,
          294,
          168,
          168,
          326.25,
          326.25,
          260,
          260,
          260,
          233.66666666666666,
          233.66666666666666,
          233.66666666666666,
          221,
          221,
          221,
          221.25,
          221.25,
          221.25,
          99.66666666666667,
          99.66666666666667,
          119.66666666666667,
          119.66666666666667,
          119.66666666666667,
          255.33333333333334,
          255.33333333333334,
          255.33333333333334,
          106.66666666666667,
          106.66666666666667,
          106.66666666666667,
          266.6666666666667,
          266.6666666666667,
          266.6666666666667,
          115.6,
          115.6,
          115.6,
          240.25,
          240.25,
          226.2,
          226.2,
          226.2,
          280.6,
          280.6,
          176,
          176,
          252,
          252,
          836.5,
          836.5,
          157,
          157,
          348.6666666666667,
          348.6666666666667,
          374,
          374,
          374,
          177.5,
          177.5,
          193,
          193,
          193,
          279.5,
          279.5,
          245,
          245,
          133,
          133,
          131.16666666666666,
          131.16666666666666,
          131.16666666666666,
          217.6,
          217.6,
          192.66666666666666,
          192.66666666666666,
          192.66666666666666,
          462.5,
          462.5,
          477,
          477,
          375.6666666666667,
          375.6666666666667,
          375.6666666666667,
          255.33333333333334,
          255.33333333333334,
          255.33333333333334,
          173.5,
          173.5,
          291.75,
          291.75,
          306.6,
          306.6,
          306.6,
          649.5,
          649.5,
          155.66666666666666,
          155.66666666666666,
          155.66666666666666,
          212.25,
          212.25,
          212.25,
          378,
          378,
          378,
          177.4,
          177.4,
          177.4,
          472.25,
          472.25,
          472.25,
          506.5,
          506.5,
          430.5,
          430.5,
          366,
          366,
          366,
          246,
          246,
          246,
          409.5,
          409.5,
          409.5,
          170.5,
          170.5,
          620,
          620,
          152,
          152,
          235.5,
          235.5,
          519.3333333333334,
          519.3333333333334,
          519.3333333333334,
          140,
          140,
          378,
          378,
          699.5,
          699.5,
          245.25,
          245.25,
          245.25,
          272.5,
          272.5,
          272.5,
          98.33333333333333,
          98.33333333333333,
          98.33333333333333,
          199,
          199,
          445.3333333333333,
          445.3333333333333,
          445.3333333333333,
          361,
          361,
          374,
          374,
          575,
          575,
          575,
          122.5,
          122.5,
          285,
          285,
          285,
          180.33333333333334,
          180.33333333333334,
          274.6,
          274.6,
          274.6,
          102.75,
          102.75,
          102.75,
          750.5,
          750.5,
          214.57142857142858,
          214.57142857142858,
          149.4,
          149.4,
          149.4,
          473.5,
          473.5,
          473.5,
          157.33333333333334,
          157.33333333333334,
          157.33333333333334,
          192.75,
          192.75,
          192.75,
          431.3333333333333,
          431.3333333333333,
          391.5,
          391.5,
          391.5,
          635,
          635,
          254.5,
          254.5,
          254.5,
          98.4,
          98.4,
          98.4,
          482.3333333333333,
          482.3333333333333,
          180.33333333333334,
          180.33333333333334,
          153.25,
          153.25,
          153.25,
          99.5,
          99.5,
          99.5,
          128.5,
          128.5,
          128.5,
          224.14285714285714,
          224.14285714285714,
          224.14285714285714,
          163,
          163,
          163,
          196.33333333333334,
          196.33333333333334,
          274,
          274,
          370.25,
          370.25,
          370.25,
          115.2,
          115.2,
          137.66666666666666,
          137.66666666666666,
          137.66666666666666,
          218.75,
          218.75,
          218.75,
          238.33333333333334,
          238.33333333333334,
          238.33333333333334,
          145.83333333333334,
          145.83333333333334,
          136,
          136,
          136,
          332,
          332,
          332,
          135.6,
          135.6,
          105.5,
          105.5,
          529,
          529,
          269.3333333333333,
          269.3333333333333,
          269.3333333333333,
          132.66666666666666,
          132.66666666666666,
          297.6666666666667,
          297.6666666666667,
          595,
          595,
          149.75,
          149.75,
          149.75,
          359.5,
          359.5,
          189.66666666666666,
          189.66666666666666,
          385.25,
          385.25,
          385.25,
          123.5,
          123.5,
          123.5,
          435,
          435,
          358.4,
          358.4,
          358.4,
          434.3333333333333,
          434.3333333333333,
          434.3333333333333,
          181.16666666666666,
          181.16666666666666,
          181.16666666666666,
          128.6,
          128.6,
          128.6,
          674,
          674,
          184.5,
          184.5,
          184.5,
          422.5,
          422.5,
          229,
          229,
          233.5,
          233.5,
          418,
          418,
          414.5,
          414.5,
          381.6666666666667,
          381.6666666666667,
          198,
          198,
          251.33333333333334,
          251.33333333333334,
          251.33333333333334,
          370.5,
          370.5,
          272.3333333333333,
          272.3333333333333,
          272.3333333333333,
          216.5,
          216.5,
          216.5,
          240.25,
          240.25,
          240.25,
          139.75,
          139.75,
          139.75,
          107,
          107,
          148.66666666666666,
          148.66666666666666,
          148.66666666666666,
          253.33333333333334,
          253.33333333333334,
          253.33333333333334,
          197.5,
          197.5,
          427,
          427,
          240,
          240,
          240,
          524,
          524,
          524,
          128,
          128,
          146.2,
          146.2,
          146.2,
          396.5,
          396.5,
          677,
          677,
          677,
          390.6666666666667,
          390.6666666666667,
          390.6666666666667,
          127.2,
          127.2,
          213.5,
          213.5,
          129.33333333333334,
          129.33333333333334,
          129.33333333333334,
          205.66666666666666,
          205.66666666666666,
          205.66666666666666,
          246.75,
          246.75,
          385,
          385,
          502,
          502,
          112.33333333333333,
          112.33333333333333,
          116,
          116,
          385,
          385,
          260,
          260,
          335,
          335,
          124.66666666666667,
          124.66666666666667,
          124.66666666666667,
          489.5,
          489.5,
          244.66666666666666,
          244.66666666666666,
          244.66666666666666,
          198.33333333333334,
          198.33333333333334,
          198.33333333333334,
          189,
          189,
          262.3333333333333,
          262.3333333333333,
          262.3333333333333,
          105.16666666666667,
          105.16666666666667,
          105.16666666666667,
          141.33333333333334,
          141.33333333333334,
          141.33333333333334,
          333.6666666666667,
          333.6666666666667,
          333.6666666666667,
          348,
          348,
          348,
          206.75,
          206.75,
          206.75,
          269.2,
          269.2,
          325.75,
          325.75,
          325.75,
          99,
          99,
          170.66666666666666,
          170.66666666666666,
          176.66666666666666,
          176.66666666666666,
          176.66666666666666,
          180.66666666666666,
          180.66666666666666,
          221.66666666666666,
          221.66666666666666,
          221.66666666666666,
          165.5,
          165.5,
          165.5,
          421.3333333333333,
          421.3333333333333,
          253.66666666666666,
          253.66666666666666,
          147,
          147,
          176.6,
          176.6,
          594.5,
          594.5,
          243.66666666666666,
          243.66666666666666,
          243.66666666666666,
          282.5,
          282.5,
          167.8,
          167.8,
          167.8,
          400,
          400,
          283.3333333333333,
          283.3333333333333,
          283.3333333333333,
          658.5,
          658.5,
          581,
          581,
          450,
          450,
          227.33333333333334,
          227.33333333333334,
          227.33333333333334,
          288,
          288,
          288,
          106.75,
          106.75,
          106.75,
          187,
          187,
          117.33333333333333,
          117.33333333333333,
          237.33333333333334,
          237.33333333333334,
          237.33333333333334,
          282,
          282,
          282,
          191,
          191,
          393.5,
          393.5,
          156,
          156,
          124.4,
          124.4,
          146.125,
          146.125,
          146.125,
          618.5,
          618.5,
          222.75,
          222.75,
          244.33333333333334,
          244.33333333333334,
          244.33333333333334,
          149,
          149,
          149,
          541.5,
          541.5,
          513,
          513,
          169.4,
          169.4,
          128,
          128,
          122.5,
          122.5,
          122.5,
          311.3333333333333,
          311.3333333333333,
          162.5,
          162.5,
          162.5,
          104,
          104,
          104,
          355,
          355,
          115.66666666666667,
          115.66666666666667,
          223.66666666666666,
          223.66666666666666,
          279.3333333333333,
          279.3333333333333,
          279.3333333333333,
          283.6666666666667,
          283.6666666666667,
          117,
          117,
          329,
          329,
          102.8,
          102.8,
          102.8,
          134,
          134,
          109,
          109,
          295.5,
          295.5,
          325,
          325,
          546.5,
          546.5,
          403.6666666666667,
          403.6666666666667,
          403.6666666666667,
          444.5,
          444.5,
          211,
          211,
          211,
          173.66666666666666,
          173.66666666666666,
          173.66666666666666,
          236,
          236,
          236,
          145,
          145,
          174,
          174,
          369,
          369,
          272.2,
          272.2,
          529.5,
          529.5,
          121,
          121,
          121,
          378.6666666666667,
          378.6666666666667,
          124.25,
          124.25,
          124.25,
          236.5,
          236.5,
          177,
          177,
          616,
          616,
          616,
          149.66666666666666,
          149.66666666666666,
          149.66666666666666,
          567,
          567
         ],
         "xaxis": "x",
         "yaxis": "y"
        }
       ],
       "layout": {
        "barmode": "relative",
        "legend": {
         "tracegroupgap": 0
        },
        "margin": {
         "t": 60
        },
        "template": {
         "data": {
          "bar": [
           {
            "error_x": {
             "color": "#2a3f5f"
            },
            "error_y": {
             "color": "#2a3f5f"
            },
            "marker": {
             "line": {
              "color": "#E5ECF6",
              "width": 0.5
             },
             "pattern": {
              "fillmode": "overlay",
              "size": 10,
              "solidity": 0.2
             }
            },
            "type": "bar"
           }
          ],
          "barpolar": [
           {
            "marker": {
             "line": {
              "color": "#E5ECF6",
              "width": 0.5
             },
             "pattern": {
              "fillmode": "overlay",
              "size": 10,
              "solidity": 0.2
             }
            },
            "type": "barpolar"
           }
          ],
          "carpet": [
           {
            "aaxis": {
             "endlinecolor": "#2a3f5f",
             "gridcolor": "white",
             "linecolor": "white",
             "minorgridcolor": "white",
             "startlinecolor": "#2a3f5f"
            },
            "baxis": {
             "endlinecolor": "#2a3f5f",
             "gridcolor": "white",
             "linecolor": "white",
             "minorgridcolor": "white",
             "startlinecolor": "#2a3f5f"
            },
            "type": "carpet"
           }
          ],
          "choropleth": [
           {
            "colorbar": {
             "outlinewidth": 0,
             "ticks": ""
            },
            "type": "choropleth"
           }
          ],
          "contour": [
           {
            "colorbar": {
             "outlinewidth": 0,
             "ticks": ""
            },
            "colorscale": [
             [
              0,
              "#0d0887"
             ],
             [
              0.1111111111111111,
              "#46039f"
             ],
             [
              0.2222222222222222,
              "#7201a8"
             ],
             [
              0.3333333333333333,
              "#9c179e"
             ],
             [
              0.4444444444444444,
              "#bd3786"
             ],
             [
              0.5555555555555556,
              "#d8576b"
             ],
             [
              0.6666666666666666,
              "#ed7953"
             ],
             [
              0.7777777777777778,
              "#fb9f3a"
             ],
             [
              0.8888888888888888,
              "#fdca26"
             ],
             [
              1,
              "#f0f921"
             ]
            ],
            "type": "contour"
           }
          ],
          "contourcarpet": [
           {
            "colorbar": {
             "outlinewidth": 0,
             "ticks": ""
            },
            "type": "contourcarpet"
           }
          ],
          "heatmap": [
           {
            "colorbar": {
             "outlinewidth": 0,
             "ticks": ""
            },
            "colorscale": [
             [
              0,
              "#0d0887"
             ],
             [
              0.1111111111111111,
              "#46039f"
             ],
             [
              0.2222222222222222,
              "#7201a8"
             ],
             [
              0.3333333333333333,
              "#9c179e"
             ],
             [
              0.4444444444444444,
              "#bd3786"
             ],
             [
              0.5555555555555556,
              "#d8576b"
             ],
             [
              0.6666666666666666,
              "#ed7953"
             ],
             [
              0.7777777777777778,
              "#fb9f3a"
             ],
             [
              0.8888888888888888,
              "#fdca26"
             ],
             [
              1,
              "#f0f921"
             ]
            ],
            "type": "heatmap"
           }
          ],
          "heatmapgl": [
           {
            "colorbar": {
             "outlinewidth": 0,
             "ticks": ""
            },
            "colorscale": [
             [
              0,
              "#0d0887"
             ],
             [
              0.1111111111111111,
              "#46039f"
             ],
             [
              0.2222222222222222,
              "#7201a8"
             ],
             [
              0.3333333333333333,
              "#9c179e"
             ],
             [
              0.4444444444444444,
              "#bd3786"
             ],
             [
              0.5555555555555556,
              "#d8576b"
             ],
             [
              0.6666666666666666,
              "#ed7953"
             ],
             [
              0.7777777777777778,
              "#fb9f3a"
             ],
             [
              0.8888888888888888,
              "#fdca26"
             ],
             [
              1,
              "#f0f921"
             ]
            ],
            "type": "heatmapgl"
           }
          ],
          "histogram": [
           {
            "marker": {
             "pattern": {
              "fillmode": "overlay",
              "size": 10,
              "solidity": 0.2
             }
            },
            "type": "histogram"
           }
          ],
          "histogram2d": [
           {
            "colorbar": {
             "outlinewidth": 0,
             "ticks": ""
            },
            "colorscale": [
             [
              0,
              "#0d0887"
             ],
             [
              0.1111111111111111,
              "#46039f"
             ],
             [
              0.2222222222222222,
              "#7201a8"
             ],
             [
              0.3333333333333333,
              "#9c179e"
             ],
             [
              0.4444444444444444,
              "#bd3786"
             ],
             [
              0.5555555555555556,
              "#d8576b"
             ],
             [
              0.6666666666666666,
              "#ed7953"
             ],
             [
              0.7777777777777778,
              "#fb9f3a"
             ],
             [
              0.8888888888888888,
              "#fdca26"
             ],
             [
              1,
              "#f0f921"
             ]
            ],
            "type": "histogram2d"
           }
          ],
          "histogram2dcontour": [
           {
            "colorbar": {
             "outlinewidth": 0,
             "ticks": ""
            },
            "colorscale": [
             [
              0,
              "#0d0887"
             ],
             [
              0.1111111111111111,
              "#46039f"
             ],
             [
              0.2222222222222222,
              "#7201a8"
             ],
             [
              0.3333333333333333,
              "#9c179e"
             ],
             [
              0.4444444444444444,
              "#bd3786"
             ],
             [
              0.5555555555555556,
              "#d8576b"
             ],
             [
              0.6666666666666666,
              "#ed7953"
             ],
             [
              0.7777777777777778,
              "#fb9f3a"
             ],
             [
              0.8888888888888888,
              "#fdca26"
             ],
             [
              1,
              "#f0f921"
             ]
            ],
            "type": "histogram2dcontour"
           }
          ],
          "mesh3d": [
           {
            "colorbar": {
             "outlinewidth": 0,
             "ticks": ""
            },
            "type": "mesh3d"
           }
          ],
          "parcoords": [
           {
            "line": {
             "colorbar": {
              "outlinewidth": 0,
              "ticks": ""
             }
            },
            "type": "parcoords"
           }
          ],
          "pie": [
           {
            "automargin": true,
            "type": "pie"
           }
          ],
          "scatter": [
           {
            "fillpattern": {
             "fillmode": "overlay",
             "size": 10,
             "solidity": 0.2
            },
            "type": "scatter"
           }
          ],
          "scatter3d": [
           {
            "line": {
             "colorbar": {
              "outlinewidth": 0,
              "ticks": ""
             }
            },
            "marker": {
             "colorbar": {
              "outlinewidth": 0,
              "ticks": ""
             }
            },
            "type": "scatter3d"
           }
          ],
          "scattercarpet": [
           {
            "marker": {
             "colorbar": {
              "outlinewidth": 0,
              "ticks": ""
             }
            },
            "type": "scattercarpet"
           }
          ],
          "scattergeo": [
           {
            "marker": {
             "colorbar": {
              "outlinewidth": 0,
              "ticks": ""
             }
            },
            "type": "scattergeo"
           }
          ],
          "scattergl": [
           {
            "marker": {
             "colorbar": {
              "outlinewidth": 0,
              "ticks": ""
             }
            },
            "type": "scattergl"
           }
          ],
          "scattermapbox": [
           {
            "marker": {
             "colorbar": {
              "outlinewidth": 0,
              "ticks": ""
             }
            },
            "type": "scattermapbox"
           }
          ],
          "scatterpolar": [
           {
            "marker": {
             "colorbar": {
              "outlinewidth": 0,
              "ticks": ""
             }
            },
            "type": "scatterpolar"
           }
          ],
          "scatterpolargl": [
           {
            "marker": {
             "colorbar": {
              "outlinewidth": 0,
              "ticks": ""
             }
            },
            "type": "scatterpolargl"
           }
          ],
          "scatterternary": [
           {
            "marker": {
             "colorbar": {
              "outlinewidth": 0,
              "ticks": ""
             }
            },
            "type": "scatterternary"
           }
          ],
          "surface": [
           {
            "colorbar": {
             "outlinewidth": 0,
             "ticks": ""
            },
            "colorscale": [
             [
              0,
              "#0d0887"
             ],
             [
              0.1111111111111111,
              "#46039f"
             ],
             [
              0.2222222222222222,
              "#7201a8"
             ],
             [
              0.3333333333333333,
              "#9c179e"
             ],
             [
              0.4444444444444444,
              "#bd3786"
             ],
             [
              0.5555555555555556,
              "#d8576b"
             ],
             [
              0.6666666666666666,
              "#ed7953"
             ],
             [
              0.7777777777777778,
              "#fb9f3a"
             ],
             [
              0.8888888888888888,
              "#fdca26"
             ],
             [
              1,
              "#f0f921"
             ]
            ],
            "type": "surface"
           }
          ],
          "table": [
           {
            "cells": {
             "fill": {
              "color": "#EBF0F8"
             },
             "line": {
              "color": "white"
             }
            },
            "header": {
             "fill": {
              "color": "#C8D4E3"
             },
             "line": {
              "color": "white"
             }
            },
            "type": "table"
           }
          ]
         },
         "layout": {
          "annotationdefaults": {
           "arrowcolor": "#2a3f5f",
           "arrowhead": 0,
           "arrowwidth": 1
          },
          "autotypenumbers": "strict",
          "coloraxis": {
           "colorbar": {
            "outlinewidth": 0,
            "ticks": ""
           }
          },
          "colorscale": {
           "diverging": [
            [
             0,
             "#8e0152"
            ],
            [
             0.1,
             "#c51b7d"
            ],
            [
             0.2,
             "#de77ae"
            ],
            [
             0.3,
             "#f1b6da"
            ],
            [
             0.4,
             "#fde0ef"
            ],
            [
             0.5,
             "#f7f7f7"
            ],
            [
             0.6,
             "#e6f5d0"
            ],
            [
             0.7,
             "#b8e186"
            ],
            [
             0.8,
             "#7fbc41"
            ],
            [
             0.9,
             "#4d9221"
            ],
            [
             1,
             "#276419"
            ]
           ],
           "sequential": [
            [
             0,
             "#0d0887"
            ],
            [
             0.1111111111111111,
             "#46039f"
            ],
            [
             0.2222222222222222,
             "#7201a8"
            ],
            [
             0.3333333333333333,
             "#9c179e"
            ],
            [
             0.4444444444444444,
             "#bd3786"
            ],
            [
             0.5555555555555556,
             "#d8576b"
            ],
            [
             0.6666666666666666,
             "#ed7953"
            ],
            [
             0.7777777777777778,
             "#fb9f3a"
            ],
            [
             0.8888888888888888,
             "#fdca26"
            ],
            [
             1,
             "#f0f921"
            ]
           ],
           "sequentialminus": [
            [
             0,
             "#0d0887"
            ],
            [
             0.1111111111111111,
             "#46039f"
            ],
            [
             0.2222222222222222,
             "#7201a8"
            ],
            [
             0.3333333333333333,
             "#9c179e"
            ],
            [
             0.4444444444444444,
             "#bd3786"
            ],
            [
             0.5555555555555556,
             "#d8576b"
            ],
            [
             0.6666666666666666,
             "#ed7953"
            ],
            [
             0.7777777777777778,
             "#fb9f3a"
            ],
            [
             0.8888888888888888,
             "#fdca26"
            ],
            [
             1,
             "#f0f921"
            ]
           ]
          },
          "colorway": [
           "#636efa",
           "#EF553B",
           "#00cc96",
           "#ab63fa",
           "#FFA15A",
           "#19d3f3",
           "#FF6692",
           "#B6E880",
           "#FF97FF",
           "#FECB52"
          ],
          "font": {
           "color": "#2a3f5f"
          },
          "geo": {
           "bgcolor": "white",
           "lakecolor": "white",
           "landcolor": "#E5ECF6",
           "showlakes": true,
           "showland": true,
           "subunitcolor": "white"
          },
          "hoverlabel": {
           "align": "left"
          },
          "hovermode": "closest",
          "mapbox": {
           "style": "light"
          },
          "paper_bgcolor": "white",
          "plot_bgcolor": "#E5ECF6",
          "polar": {
           "angularaxis": {
            "gridcolor": "white",
            "linecolor": "white",
            "ticks": ""
           },
           "bgcolor": "#E5ECF6",
           "radialaxis": {
            "gridcolor": "white",
            "linecolor": "white",
            "ticks": ""
           }
          },
          "scene": {
           "xaxis": {
            "backgroundcolor": "#E5ECF6",
            "gridcolor": "white",
            "gridwidth": 2,
            "linecolor": "white",
            "showbackground": true,
            "ticks": "",
            "zerolinecolor": "white"
           },
           "yaxis": {
            "backgroundcolor": "#E5ECF6",
            "gridcolor": "white",
            "gridwidth": 2,
            "linecolor": "white",
            "showbackground": true,
            "ticks": "",
            "zerolinecolor": "white"
           },
           "zaxis": {
            "backgroundcolor": "#E5ECF6",
            "gridcolor": "white",
            "gridwidth": 2,
            "linecolor": "white",
            "showbackground": true,
            "ticks": "",
            "zerolinecolor": "white"
           }
          },
          "shapedefaults": {
           "line": {
            "color": "#2a3f5f"
           }
          },
          "ternary": {
           "aaxis": {
            "gridcolor": "white",
            "linecolor": "white",
            "ticks": ""
           },
           "baxis": {
            "gridcolor": "white",
            "linecolor": "white",
            "ticks": ""
           },
           "bgcolor": "#E5ECF6",
           "caxis": {
            "gridcolor": "white",
            "linecolor": "white",
            "ticks": ""
           }
          },
          "title": {
           "x": 0.05
          },
          "xaxis": {
           "automargin": true,
           "gridcolor": "white",
           "linecolor": "white",
           "ticks": "",
           "title": {
            "standoff": 15
           },
           "zerolinecolor": "white",
           "zerolinewidth": 2
          },
          "yaxis": {
           "automargin": true,
           "gridcolor": "white",
           "linecolor": "white",
           "ticks": "",
           "title": {
            "standoff": 15
           },
           "zerolinecolor": "white",
           "zerolinewidth": 2
          }
         }
        },
        "title": {
         "text": "재방문 기간에 따른 히스토그램",
         "x": 0.5
        },
        "xaxis": {
         "anchor": "y",
         "domain": [
          0,
          1
         ],
         "title": {
          "text": "재방문 기간"
         }
        },
        "yaxis": {
         "anchor": "x",
         "domain": [
          0,
          1
         ],
         "title": {
          "text": "cnt"
         }
        }
       }
      }
     },
     "metadata": {},
     "output_type": "display_data"
    }
   ],
   "source": [
    "a= brand_user[['revisit_interval', 'purchase_cnt']]\n",
    "a.corr()\n",
    "\n",
    "fig = px.histogram(a, x='revisit_interval')\n",
    "fig.update_layout(title=dict(text='재방문 기간에 따른 히스토그램',\n",
    "                             x=0.5),\n",
    "                xaxis_title='재방문 기간',\n",
    "                yaxis_title='cnt')\n",
    "fig.show()"
   ]
  }
 ],
 "metadata": {
  "kernelspec": {
   "display_name": "Python 3",
   "language": "python",
   "name": "python3"
  },
  "language_info": {
   "codemirror_mode": {
    "name": "ipython",
    "version": 3
   },
   "file_extension": ".py",
   "mimetype": "text/x-python",
   "name": "python",
   "nbconvert_exporter": "python",
   "pygments_lexer": "ipython3",
   "version": "3.12.10"
  }
 },
 "nbformat": 4,
 "nbformat_minor": 5
}
